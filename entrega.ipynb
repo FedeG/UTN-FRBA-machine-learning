{
 "cells": [
  {
   "cell_type": "code",
   "execution_count": 23,
   "metadata": {},
   "outputs": [
    {
     "name": "stdout",
     "output_type": "stream",
     "text": [
      "Requirement already satisfied: pandas in /home/fedeg/workspace/virtualenvs/machine_learning-UIi7gfOb/lib/python3.11/site-packages (2.1.0)\n",
      "Requirement already satisfied: numpy>=1.23.2 in /home/fedeg/workspace/virtualenvs/machine_learning-UIi7gfOb/lib/python3.11/site-packages (from pandas) (1.25.2)\n",
      "Requirement already satisfied: python-dateutil>=2.8.2 in /home/fedeg/workspace/virtualenvs/machine_learning-UIi7gfOb/lib/python3.11/site-packages (from pandas) (2.8.2)\n",
      "Requirement already satisfied: pytz>=2020.1 in /home/fedeg/workspace/virtualenvs/machine_learning-UIi7gfOb/lib/python3.11/site-packages (from pandas) (2023.3)\n",
      "Requirement already satisfied: tzdata>=2022.1 in /home/fedeg/workspace/virtualenvs/machine_learning-UIi7gfOb/lib/python3.11/site-packages (from pandas) (2023.3)\n",
      "Requirement already satisfied: six>=1.5 in /home/fedeg/workspace/virtualenvs/machine_learning-UIi7gfOb/lib/python3.11/site-packages (from python-dateutil>=2.8.2->pandas) (1.16.0)\n",
      "Note: you may need to restart the kernel to use updated packages.\n"
     ]
    }
   ],
   "source": [
    "# Instalar pandas si no está instalado \n",
    "\n",
    "%pip install pandas"
   ]
  },
  {
   "cell_type": "code",
   "execution_count": 24,
   "metadata": {},
   "outputs": [],
   "source": [
    "# Import \n",
    "\n",
    "import pandas as pd"
   ]
  },
  {
   "cell_type": "code",
   "execution_count": 25,
   "metadata": {},
   "outputs": [],
   "source": [
    "# Utils\n",
    "\n",
    "def show_data_summary(data):\n",
    "    print(f'Size: {data.size}')\n",
    "    print(f'Columns: {len(data.columns)}')\n",
    "    print(f'Rows: {data.shape[0]}')\n",
    "    print(f'Unique clients: {len(data.client_id.unique())}')"
   ]
  },
  {
   "cell_type": "code",
   "execution_count": 26,
   "metadata": {},
   "outputs": [
    {
     "name": "stdout",
     "output_type": "stream",
     "text": [
      "Size: 18373355\n",
      "Columns: 77\n",
      "Rows: 238615\n",
      "Unique clients: 26560\n"
     ]
    }
   ],
   "source": [
    "# Load data\n",
    "\n",
    "data = pd.read_csv('./data.csv', delimiter='|', skipfooter=1, engine='python')\n",
    "\n",
    "show_data_summary(data)"
   ]
  },
  {
   "cell_type": "code",
   "execution_count": 27,
   "metadata": {},
   "outputs": [
    {
     "name": "stdout",
     "output_type": "stream",
     "text": [
      "Size: 18373355\n",
      "Columns: 77\n",
      "Rows: 238615\n",
      "Unique clients: 26560\n"
     ]
    }
   ],
   "source": [
    "# Remove summary row\n",
    "\n",
    "data = data[(data.client_id != '(238615 rows affected)')]\n",
    "\n",
    "show_data_summary(data)"
   ]
  },
  {
   "cell_type": "code",
   "execution_count": 28,
   "metadata": {},
   "outputs": [
    {
     "name": "stdout",
     "output_type": "stream",
     "text": [
      "Size: 18373355\n",
      "Columns: 77\n",
      "Rows: 238615\n",
      "Unique clients: 26560\n"
     ]
    }
   ],
   "source": [
    "# Remove duplicates\n",
    "\n",
    "data = data.drop_duplicates(subset=['Month', 'client_id'])\n",
    "\n",
    "show_data_summary(data)"
   ]
  },
  {
   "cell_type": "code",
   "execution_count": 29,
   "metadata": {},
   "outputs": [
    {
     "name": "stdout",
     "output_type": "stream",
     "text": [
      "Size: 18352719\n",
      "Columns: 77\n",
      "Rows: 238347\n",
      "Unique clients: 26483\n"
     ]
    }
   ],
   "source": [
    "# Get clients with 9 months data\n",
    "\n",
    "nine_mouths = data.groupby('client_id')['Month'].count().reset_index()\n",
    "clients_with_9_months = data.merge(\n",
    "    nine_mouths[nine_mouths.Month == 9][['client_id']],\n",
    "    how='inner',\n",
    "    on='client_id',\n",
    ")\n",
    "\n",
    "show_data_summary(clients_with_9_months)"
   ]
  },
  {
   "cell_type": "markdown",
   "metadata": {},
   "source": [
    "##### Windows\n",
    "\n",
    "- Training window: 6 month (from 2018-11-01 to 2019-01-01)\n",
    "- Lead window: 1 month (2019-02-01)\n",
    "- Prediction window: last 2 month (2019-03-01 and 2019-04-01)"
   ]
  },
  {
   "cell_type": "code",
   "execution_count": 30,
   "metadata": {},
   "outputs": [
    {
     "name": "stdout",
     "output_type": "stream",
     "text": [
      "Size: 16386678\n",
      "Columns: 77\n",
      "Rows: 212814\n",
      "Unique clients: 23646\n"
     ]
    }
   ],
   "source": [
    "# Get last training month clients without cobranding\n",
    "\n",
    "last_training_month = '2019-01-01'\n",
    "last_training_month_data = clients_with_9_months[clients_with_9_months.Month == last_training_month]\n",
    "\n",
    "clients_without_cobranding = clients_with_9_months.merge(\n",
    "    last_training_month_data[last_training_month_data.CreditCard_CoBranding == 'No'][['client_id']],\n",
    "    how='inner',\n",
    "    on='client_id',\n",
    ")\n",
    "\n",
    "show_data_summary(clients_without_cobranding)"
   ]
  },
  {
   "cell_type": "code",
   "execution_count": 31,
   "metadata": {},
   "outputs": [
    {
     "data": {
      "text/plain": [
       "Package_Active\n",
       "No     23191\n",
       "Yes      455\n",
       "Name: count, dtype: int64"
      ]
     },
     "execution_count": 31,
     "metadata": {},
     "output_type": "execute_result"
    }
   ],
   "source": [
    "last_training_month_data = clients_without_cobranding[clients_without_cobranding.Month == last_training_month]\n",
    "last_training_month_data.Package_Active.value_counts()"
   ]
  },
  {
   "cell_type": "code",
   "execution_count": 32,
   "metadata": {},
   "outputs": [
    {
     "name": "stdout",
     "output_type": "stream",
     "text": [
      "Size: 16071363\n",
      "Columns: 77\n",
      "Rows: 208719\n",
      "Unique clients: 23191\n"
     ]
    }
   ],
   "source": [
    "# Get last training month clients without package active\n",
    "\n",
    "last_training_month_data = clients_without_cobranding[clients_without_cobranding.Month == last_training_month]\n",
    "\n",
    "clients_without_cobranding_without_package = clients_without_cobranding.merge(\n",
    "    last_training_month_data[last_training_month_data.Package_Active == 'No'][['client_id']],\n",
    "    how='inner',\n",
    "    on='client_id',\n",
    ")\n",
    "\n",
    "show_data_summary(clients_without_cobranding_without_package)"
   ]
  }
 ],
 "metadata": {
  "kernelspec": {
   "display_name": "machine_learning-UIi7gfOb",
   "language": "python",
   "name": "python3"
  },
  "language_info": {
   "codemirror_mode": {
    "name": "ipython",
    "version": 3
   },
   "file_extension": ".py",
   "mimetype": "text/x-python",
   "name": "python",
   "nbconvert_exporter": "python",
   "pygments_lexer": "ipython3",
   "version": "3.11.4"
  },
  "orig_nbformat": 4
 },
 "nbformat": 4,
 "nbformat_minor": 2
}
