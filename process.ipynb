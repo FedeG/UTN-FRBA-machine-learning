{
 "cells": [
  {
   "cell_type": "code",
   "execution_count": null,
   "metadata": {},
   "outputs": [],
   "source": [
    "# Instala pandas si no está instalado \n",
    "%pip install pandas\n",
    "%pip install tabulate\n",
    "%pip install jinja2\n",
    "%pip install matplotlib"
   ]
  },
  {
   "cell_type": "code",
   "execution_count": 1,
   "metadata": {},
   "outputs": [],
   "source": [
    "# imports\n",
    "import pandas as pd\n",
    "import numpy as np\n",
    "import matplotlib.pyplot as plt\n",
    "from IPython.display import display\n",
    "from tabulate import tabulate"
   ]
  },
  {
   "cell_type": "code",
   "execution_count": 2,
   "metadata": {},
   "outputs": [],
   "source": [
    "dataframe = pd.read_csv('./data.csv', delimiter='|', dtype='unicode')"
   ]
  },
  {
   "cell_type": "code",
   "execution_count": 3,
   "metadata": {},
   "outputs": [
    {
     "name": "stdout",
     "output_type": "stream",
     "text": [
      "size: 18373432\n",
      "columns: 77\n",
      "rows: 238616\n"
     ]
    }
   ],
   "source": [
    "# Mostrar la cantidad de celdas\n",
    "print(f'size: {dataframe.size}')\n",
    "print(f'columns: {len(dataframe.columns)}')\n",
    "print(f'rows: {dataframe.shape[0]}')"
   ]
  },
  {
   "cell_type": "code",
   "execution_count": null,
   "metadata": {},
   "outputs": [],
   "source": [
    "# Primeros 5 elementos como tabla\n",
    "dataframe.head()\n",
    "# opcion para consola: print(tabulate(dataframe[:5], headers='keys', tablefmt='psql'))"
   ]
  },
  {
   "cell_type": "code",
   "execution_count": null,
   "metadata": {},
   "outputs": [],
   "source": [
    "def show_pie(df, column_name):\n",
    "    count = df[column_name].value_counts()\n",
    "\n",
    "    # Crear un gráfico de torta\n",
    "    plt.figure(figsize=(6, 6))  # Tamaño del gráfico\n",
    "    plt.pie(count, labels=count.index, autopct='%1.1f%%', startangle=90)\n",
    "    plt.title(f'Gráfico de Torta de {column_name}')  # Título del gráfico\n",
    "\n",
    "    # Mostrar el gráfico\n",
    "    plt.show()"
   ]
  },
  {
   "cell_type": "code",
   "execution_count": null,
   "metadata": {},
   "outputs": [],
   "source": [
    "show_pie(dataframe, 'Sex')\n",
    "show_pie(dataframe, 'Region')\n",
    "show_pie(dataframe, 'Month')\n",
    "show_pie(dataframe, 'Target')\n",
    "show_pie(dataframe, 'Client_Age_grp')\n",
    "show_pie(dataframe, 'CreditCard_Product')"
   ]
  },
  {
   "cell_type": "code",
   "execution_count": null,
   "metadata": {},
   "outputs": [],
   "source": [
    "# Limpio los datos\n",
    "\n",
    "print('shape original:', dataframe.shape)\n",
    "data = dataframe.drop_duplicates(subset=['Target', 'Month', 'client_id'])\n",
    "data[(data.client_id == '(238615 rows affected)')]\n",
    "print('shape filtrado:', data.shape)"
   ]
  },
  {
   "cell_type": "code",
   "execution_count": null,
   "metadata": {},
   "outputs": [],
   "source": [
    "data.describe(include='all')"
   ]
  },
  {
   "cell_type": "code",
   "execution_count": 4,
   "metadata": {},
   "outputs": [
    {
     "data": {
      "text/html": [
       "<div>\n",
       "<style scoped>\n",
       "    .dataframe tbody tr th:only-of-type {\n",
       "        vertical-align: middle;\n",
       "    }\n",
       "\n",
       "    .dataframe tbody tr th {\n",
       "        vertical-align: top;\n",
       "    }\n",
       "\n",
       "    .dataframe thead th {\n",
       "        text-align: right;\n",
       "    }\n",
       "</style>\n",
       "<table border=\"1\" class=\"dataframe\">\n",
       "  <thead>\n",
       "    <tr style=\"text-align: right;\">\n",
       "      <th></th>\n",
       "      <th>client_id</th>\n",
       "      <th>Month</th>\n",
       "    </tr>\n",
       "  </thead>\n",
       "  <tbody>\n",
       "    <tr>\n",
       "      <th>0</th>\n",
       "      <td>(238615 rows affected)</td>\n",
       "      <td>0</td>\n",
       "    </tr>\n",
       "    <tr>\n",
       "      <th>1</th>\n",
       "      <td>1000199</td>\n",
       "      <td>9</td>\n",
       "    </tr>\n",
       "    <tr>\n",
       "      <th>2</th>\n",
       "      <td>1000245</td>\n",
       "      <td>9</td>\n",
       "    </tr>\n",
       "    <tr>\n",
       "      <th>3</th>\n",
       "      <td>1000847</td>\n",
       "      <td>9</td>\n",
       "    </tr>\n",
       "    <tr>\n",
       "      <th>4</th>\n",
       "      <td>1001232</td>\n",
       "      <td>9</td>\n",
       "    </tr>\n",
       "  </tbody>\n",
       "</table>\n",
       "</div>"
      ],
      "text/plain": [
       "                client_id  Month\n",
       "0  (238615 rows affected)      0\n",
       "1                 1000199      9\n",
       "2                 1000245      9\n",
       "3                 1000847      9\n",
       "4                 1001232      9"
      ]
     },
     "execution_count": 4,
     "metadata": {},
     "output_type": "execute_result"
    }
   ],
   "source": [
    "data = dataframe.copy()\n",
    "nuevemeses = data.groupby('client_id')['Month'].count().reset_index()\n",
    "nuevemeses.head()"
   ]
  },
  {
   "cell_type": "code",
   "execution_count": 5,
   "metadata": {},
   "outputs": [
    {
     "data": {
      "text/plain": [
       "client_id               Month\n",
       "(238615 rows affected)  0        1\n",
       "601455                  9        1\n",
       "6015634                 9        1\n",
       "6015459                 9        1\n",
       "6015440                 9        1\n",
       "                                ..\n",
       "4227818                 9        1\n",
       "4227788                 9        1\n",
       "4227348                 9        1\n",
       "4227062                 9        1\n",
       "999462                  9        1\n",
       "Name: count, Length: 26561, dtype: int64"
      ]
     },
     "execution_count": 5,
     "metadata": {},
     "output_type": "execute_result"
    }
   ],
   "source": [
    "nuevemeses.value_counts()"
   ]
  },
  {
   "cell_type": "code",
   "execution_count": null,
   "metadata": {},
   "outputs": [],
   "source": [
    "data = data.merge(nuevemeses[nuevemeses.Month == 9][['client_id']], how='inner', on='client_id')\n",
    "data.shape"
   ]
  },
  {
   "cell_type": "code",
   "execution_count": null,
   "metadata": {},
   "outputs": [],
   "source": [
    "data['Month'].describe(include='all')"
   ]
  },
  {
   "cell_type": "code",
   "execution_count": null,
   "metadata": {},
   "outputs": [],
   "source": [
    "# con paquete activo\n",
    "actives = data[data.Month == '2019-01-01'].copy()\n",
    "sin_paquetes = actives[actives.Package_Active == 'No'].copy()\n",
    "\n",
    "target = data[(data.Month == '2019-04-01') | (data.Month == '2019-03-01')].copy()\n",
    "target"
   ]
  },
  {
   "cell_type": "code",
   "execution_count": null,
   "metadata": {},
   "outputs": [],
   "source": [
    "data['client_id'].astype(str).str[-1].value_counts()"
   ]
  },
  {
   "cell_type": "code",
   "execution_count": null,
   "metadata": {},
   "outputs": [],
   "source": []
  }
 ],
 "metadata": {
  "kernelspec": {
   "display_name": "machine_learning-UIi7gfOb",
   "language": "python",
   "name": "python3"
  },
  "language_info": {
   "codemirror_mode": {
    "name": "ipython",
    "version": 3
   },
   "file_extension": ".py",
   "mimetype": "text/x-python",
   "name": "python",
   "nbconvert_exporter": "python",
   "pygments_lexer": "ipython3",
   "version": "3.11.4"
  },
  "orig_nbformat": 4
 },
 "nbformat": 4,
 "nbformat_minor": 2
}
