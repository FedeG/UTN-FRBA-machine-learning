{
 "cells": [
  {
   "cell_type": "markdown",
   "id": "09022ca8",
   "metadata": {},
   "source": [
    "This is a text"
   ]
  },
  {
   "cell_type": "markdown",
   "id": "73a6a6ba",
   "metadata": {},
   "source": [
    "# This is a Text"
   ]
  },
  {
   "cell_type": "code",
   "execution_count": 1,
   "id": "6c072393",
   "metadata": {},
   "outputs": [],
   "source": [
    "import numpy as np # for arrays, Series, List, Sets\n",
    "import pandas as pd # for dataframes"
   ]
  },
  {
   "cell_type": "code",
   "execution_count": 2,
   "id": "e34c0e41",
   "metadata": {},
   "outputs": [
    {
     "name": "stdout",
     "output_type": "stream",
     "text": [
      "This is var1:  5 , i TOLD YOU THIS IS VAR1!!!\n",
      "This is var1: 5, i TOLD YOU THIS IS VAR1!!!\n"
     ]
    },
    {
     "data": {
      "text/plain": [
       "11"
      ]
     },
     "execution_count": 2,
     "metadata": {},
     "output_type": "execute_result"
    }
   ],
   "source": [
    "var1 = 5\n",
    "print('This is var1: ', var1, ', i TOLD YOU THIS IS VAR1!!!')\n",
    "print(f'This is var1: {var1}, i TOLD YOU THIS IS VAR1!!!')\n",
    "var1 += 6\n",
    "var1"
   ]
  },
  {
   "cell_type": "code",
   "execution_count": 3,
   "id": "ccdf7ef3",
   "metadata": {},
   "outputs": [
    {
     "data": {
      "text/plain": [
       "'pepepe'"
      ]
     },
     "execution_count": 3,
     "metadata": {},
     "output_type": "execute_result"
    }
   ],
   "source": [
    "var2 = var1\n",
    "var2 = 'pepepe'\n",
    "var2"
   ]
  },
  {
   "cell_type": "code",
   "execution_count": 4,
   "id": "7eed7c25",
   "metadata": {},
   "outputs": [
    {
     "data": {
      "text/plain": [
       "str"
      ]
     },
     "execution_count": 4,
     "metadata": {},
     "output_type": "execute_result"
    }
   ],
   "source": [
    "type(var2)"
   ]
  },
  {
   "cell_type": "code",
   "execution_count": 5,
   "id": "f7807284",
   "metadata": {},
   "outputs": [
    {
     "data": {
      "text/plain": [
       "'pepepe ----- pepepe'"
      ]
     },
     "execution_count": 5,
     "metadata": {},
     "output_type": "execute_result"
    }
   ],
   "source": [
    "var_str=var2 + ' ----- ' + var2\n",
    "var_str"
   ]
  },
  {
   "cell_type": "code",
   "execution_count": 6,
   "id": "47bb0424",
   "metadata": {},
   "outputs": [
    {
     "data": {
      "text/plain": [
       "'pepepe ----- pepepe'"
      ]
     },
     "execution_count": 6,
     "metadata": {},
     "output_type": "execute_result"
    }
   ],
   "source": [
    "var_str=f'{var2} ----- {var2}'\n",
    "var_str"
   ]
  },
  {
   "cell_type": "code",
   "execution_count": 7,
   "id": "f512d2a5",
   "metadata": {},
   "outputs": [
    {
     "name": "stderr",
     "output_type": "stream",
     "text": [
      "/tmp/ipykernel_540630/4247246958.py:1: DtypeWarning: Columns (0) have mixed types. Specify dtype option on import or set low_memory=False.\n",
      "  data = pd.read_csv('./data.csv', sep='|')\n"
     ]
    }
   ],
   "source": [
    "data = pd.read_csv('./data.csv', sep='|')"
   ]
  },
  {
   "cell_type": "code",
   "execution_count": 8,
   "id": "845566fe",
   "metadata": {},
   "outputs": [
    {
     "data": {
      "text/html": [
       "<div>\n",
       "<style scoped>\n",
       "    .dataframe tbody tr th:only-of-type {\n",
       "        vertical-align: middle;\n",
       "    }\n",
       "\n",
       "    .dataframe tbody tr th {\n",
       "        vertical-align: top;\n",
       "    }\n",
       "\n",
       "    .dataframe thead th {\n",
       "        text-align: right;\n",
       "    }\n",
       "</style>\n",
       "<table border=\"1\" class=\"dataframe\">\n",
       "  <thead>\n",
       "    <tr style=\"text-align: right;\">\n",
       "      <th></th>\n",
       "      <th>client_id</th>\n",
       "      <th>Target</th>\n",
       "      <th>Month</th>\n",
       "      <th>First_product_dt</th>\n",
       "      <th>Last_product_dt</th>\n",
       "      <th>CreditCard_Premium</th>\n",
       "      <th>CreditCard_Active</th>\n",
       "      <th>CreditCard_CoBranding</th>\n",
       "      <th>Loan_Active</th>\n",
       "      <th>Mortgage_Active</th>\n",
       "      <th>...</th>\n",
       "      <th>CreditCard_Payment_External</th>\n",
       "      <th>CreditCard_Payment_Cash</th>\n",
       "      <th>CreditCard_Payment_Web</th>\n",
       "      <th>CreditCard_Payment_ATM</th>\n",
       "      <th>CreditCard_Payment_TAS</th>\n",
       "      <th>Investment_Numbers</th>\n",
       "      <th>Mobile</th>\n",
       "      <th>Email</th>\n",
       "      <th>Region</th>\n",
       "      <th>CreditCard_Product</th>\n",
       "    </tr>\n",
       "  </thead>\n",
       "  <tbody>\n",
       "    <tr>\n",
       "      <th>0</th>\n",
       "      <td>5856970</td>\n",
       "      <td>1.0</td>\n",
       "      <td>2018-10-01</td>\n",
       "      <td>2013-10-23</td>\n",
       "      <td>2019-01-10</td>\n",
       "      <td>No</td>\n",
       "      <td>Yes</td>\n",
       "      <td>No</td>\n",
       "      <td>No</td>\n",
       "      <td>No</td>\n",
       "      <td>...</td>\n",
       "      <td>0.0</td>\n",
       "      <td>0.0</td>\n",
       "      <td>0.0</td>\n",
       "      <td>0.0</td>\n",
       "      <td>0.0</td>\n",
       "      <td>1.0</td>\n",
       "      <td>Yes</td>\n",
       "      <td>Yes</td>\n",
       "      <td>NaN</td>\n",
       "      <td>NaN</td>\n",
       "    </tr>\n",
       "    <tr>\n",
       "      <th>1</th>\n",
       "      <td>6371753</td>\n",
       "      <td>0.0</td>\n",
       "      <td>2018-09-01</td>\n",
       "      <td>2015-07-29</td>\n",
       "      <td>2018-06-02</td>\n",
       "      <td>No</td>\n",
       "      <td>No</td>\n",
       "      <td>No</td>\n",
       "      <td>No</td>\n",
       "      <td>No</td>\n",
       "      <td>...</td>\n",
       "      <td>0.0</td>\n",
       "      <td>0.0</td>\n",
       "      <td>0.0</td>\n",
       "      <td>0.0</td>\n",
       "      <td>0.0</td>\n",
       "      <td>0.0</td>\n",
       "      <td>Yes</td>\n",
       "      <td>No</td>\n",
       "      <td>NaN</td>\n",
       "      <td>NaN</td>\n",
       "    </tr>\n",
       "    <tr>\n",
       "      <th>2</th>\n",
       "      <td>5928737</td>\n",
       "      <td>0.0</td>\n",
       "      <td>2019-01-01</td>\n",
       "      <td>2016-08-31</td>\n",
       "      <td>2018-12-27</td>\n",
       "      <td>No</td>\n",
       "      <td>No</td>\n",
       "      <td>No</td>\n",
       "      <td>No</td>\n",
       "      <td>No</td>\n",
       "      <td>...</td>\n",
       "      <td>0.0</td>\n",
       "      <td>0.0</td>\n",
       "      <td>0.0</td>\n",
       "      <td>0.0</td>\n",
       "      <td>0.0</td>\n",
       "      <td>0.0</td>\n",
       "      <td>Yes</td>\n",
       "      <td>Yes</td>\n",
       "      <td>NaN</td>\n",
       "      <td>NaN</td>\n",
       "    </tr>\n",
       "    <tr>\n",
       "      <th>3</th>\n",
       "      <td>475064</td>\n",
       "      <td>0.0</td>\n",
       "      <td>2018-12-01</td>\n",
       "      <td>2014-07-13</td>\n",
       "      <td>2017-11-30</td>\n",
       "      <td>No</td>\n",
       "      <td>Yes</td>\n",
       "      <td>No</td>\n",
       "      <td>No</td>\n",
       "      <td>No</td>\n",
       "      <td>...</td>\n",
       "      <td>0.0</td>\n",
       "      <td>0.0</td>\n",
       "      <td>0.0</td>\n",
       "      <td>0.0</td>\n",
       "      <td>0.0</td>\n",
       "      <td>0.0</td>\n",
       "      <td>Yes</td>\n",
       "      <td>Yes</td>\n",
       "      <td>NaN</td>\n",
       "      <td>NaN</td>\n",
       "    </tr>\n",
       "    <tr>\n",
       "      <th>4</th>\n",
       "      <td>3615172</td>\n",
       "      <td>0.0</td>\n",
       "      <td>2018-09-01</td>\n",
       "      <td>2017-12-27</td>\n",
       "      <td>2017-12-28</td>\n",
       "      <td>No</td>\n",
       "      <td>No</td>\n",
       "      <td>No</td>\n",
       "      <td>No</td>\n",
       "      <td>No</td>\n",
       "      <td>...</td>\n",
       "      <td>0.0</td>\n",
       "      <td>0.0</td>\n",
       "      <td>0.0</td>\n",
       "      <td>0.0</td>\n",
       "      <td>0.0</td>\n",
       "      <td>0.0</td>\n",
       "      <td>Yes</td>\n",
       "      <td>No</td>\n",
       "      <td>NaN</td>\n",
       "      <td>NaN</td>\n",
       "    </tr>\n",
       "  </tbody>\n",
       "</table>\n",
       "<p>5 rows × 77 columns</p>\n",
       "</div>"
      ],
      "text/plain": [
       "  client_id  Target       Month First_product_dt Last_product_dt  \\\n",
       "0   5856970     1.0  2018-10-01       2013-10-23      2019-01-10   \n",
       "1   6371753     0.0  2018-09-01       2015-07-29      2018-06-02   \n",
       "2   5928737     0.0  2019-01-01       2016-08-31      2018-12-27   \n",
       "3    475064     0.0  2018-12-01       2014-07-13      2017-11-30   \n",
       "4   3615172     0.0  2018-09-01       2017-12-27      2017-12-28   \n",
       "\n",
       "  CreditCard_Premium CreditCard_Active CreditCard_CoBranding Loan_Active  \\\n",
       "0                 No               Yes                    No          No   \n",
       "1                 No                No                    No          No   \n",
       "2                 No                No                    No          No   \n",
       "3                 No               Yes                    No          No   \n",
       "4                 No                No                    No          No   \n",
       "\n",
       "  Mortgage_Active  ... CreditCard_Payment_External CreditCard_Payment_Cash  \\\n",
       "0              No  ...                         0.0                     0.0   \n",
       "1              No  ...                         0.0                     0.0   \n",
       "2              No  ...                         0.0                     0.0   \n",
       "3              No  ...                         0.0                     0.0   \n",
       "4              No  ...                         0.0                     0.0   \n",
       "\n",
       "  CreditCard_Payment_Web CreditCard_Payment_ATM CreditCard_Payment_TAS  \\\n",
       "0                    0.0                    0.0                    0.0   \n",
       "1                    0.0                    0.0                    0.0   \n",
       "2                    0.0                    0.0                    0.0   \n",
       "3                    0.0                    0.0                    0.0   \n",
       "4                    0.0                    0.0                    0.0   \n",
       "\n",
       "  Investment_Numbers Mobile Email Region CreditCard_Product  \n",
       "0                1.0    Yes   Yes    NaN                NaN  \n",
       "1                0.0    Yes    No    NaN                NaN  \n",
       "2                0.0    Yes   Yes    NaN                NaN  \n",
       "3                0.0    Yes   Yes    NaN                NaN  \n",
       "4                0.0    Yes    No    NaN                NaN  \n",
       "\n",
       "[5 rows x 77 columns]"
      ]
     },
     "execution_count": 8,
     "metadata": {},
     "output_type": "execute_result"
    }
   ],
   "source": [
    "data.head()"
   ]
  },
  {
   "cell_type": "code",
   "execution_count": 9,
   "id": "1a781616",
   "metadata": {},
   "outputs": [
    {
     "data": {
      "text/plain": [
       "(238616, 77)"
      ]
     },
     "execution_count": 9,
     "metadata": {},
     "output_type": "execute_result"
    }
   ],
   "source": [
    "# shape -> (rows, columns)\n",
    "data.shape"
   ]
  },
  {
   "cell_type": "code",
   "execution_count": 90,
   "id": "2fcd6f98",
   "metadata": {},
   "outputs": [
    {
     "data": {
      "text/plain": [
       "['client_id',\n",
       " 'Target',\n",
       " 'Month',\n",
       " 'First_product_dt',\n",
       " 'Last_product_dt',\n",
       " 'CreditCard_Premium',\n",
       " 'CreditCard_Active',\n",
       " 'CreditCard_CoBranding',\n",
       " 'Loan_Active',\n",
       " 'Mortgage_Active',\n",
       " 'SavingAccount_Active_ARG_Salary',\n",
       " 'SavingAccount_Active_ARG',\n",
       " 'SavingAccount_Active_DOLLAR',\n",
       " 'DebitCard_Active',\n",
       " 'Investment_Active',\n",
       " 'Package_Active',\n",
       " 'Insurance_Life',\n",
       " 'Insurance_Home',\n",
       " 'Insurance_Accidents',\n",
       " 'Insurance_Mobile',\n",
       " 'Insurance_ATM',\n",
       " 'Insurance_Unemployment',\n",
       " 'Sex',\n",
       " 'Client_Age_grp',\n",
       " 'SavingAccount_Balance_FirstDate',\n",
       " 'SavingAccount_Balance_LastDate',\n",
       " 'SavingAccount_Balance_Average',\n",
       " 'SavingAccount_Days_with_use',\n",
       " 'SavingAccount_Days_with_Credits',\n",
       " 'SavingAccount_Days_with_Debits',\n",
       " 'SavingAccount_Salary_Payment_Transactions',\n",
       " 'SavingAccount_Transfer_In_Transactions',\n",
       " 'SavingAccount_ATM_Extraction_Transactions',\n",
       " 'SavingAccount_Service_Payment_Transactions',\n",
       " 'SavingAccount_CreditCard_Payment_Transactions',\n",
       " 'SavingAccount_Transfer_Out_Transactions',\n",
       " 'SavingAccount_DebitCard_Spend_Transactions',\n",
       " 'SavingAccount_Transactions_Transactions',\n",
       " 'SavingAccount_Credits_Transactions',\n",
       " 'SavingAccount_Debits_Transactions',\n",
       " 'SavingAccount_Salary_Payment_Amount',\n",
       " 'SavingAccount_Transfer_In_Amount',\n",
       " 'SavingAccount_ATM_Extraction_Amount',\n",
       " 'SavingAccount_Service_Payment_Amount',\n",
       " 'SavingAccount_CreditCard_Payment_Amount',\n",
       " 'SavingAccount_Transfer_Out_Amount',\n",
       " 'SavingAccount_DebitCard_Spend_Amount',\n",
       " 'SavingAccount_Total_Amount',\n",
       " 'SavingAccount_Credits_Amounts',\n",
       " 'SavingAccount_Debits_Amounts',\n",
       " 'Operations_Bank',\n",
       " 'Operations_Terminal',\n",
       " 'Operations_HomeBanking',\n",
       " 'Operations_Mobile',\n",
       " 'Operations_Ivr',\n",
       " 'Operations_Telemarketer',\n",
       " 'Operations_ATM',\n",
       " 'CreditCard_Balance_ARG',\n",
       " 'CreditCard_Balance_DOLLAR',\n",
       " 'CreditCard_Total_Limit',\n",
       " 'CreditCard_Total_Spending',\n",
       " 'CreditCard_Spending_1_Installment',\n",
       " 'CreditCard_Spending_Installments',\n",
       " 'CreditCard_Spending_CrossBoarder',\n",
       " 'CreditCard_Spending_Aut_Debits',\n",
       " 'CreditCard_Revolving',\n",
       " 'CreditCard_Payment_Aut_Debit',\n",
       " 'CreditCard_Payment_External',\n",
       " 'CreditCard_Payment_Cash',\n",
       " 'CreditCard_Payment_Web',\n",
       " 'CreditCard_Payment_ATM',\n",
       " 'CreditCard_Payment_TAS',\n",
       " 'Investment_Numbers',\n",
       " 'Mobile',\n",
       " 'Email',\n",
       " 'Region',\n",
       " 'CreditCard_Product',\n",
       " 'SavingAccount_Debits_Transactions_gt_100',\n",
       " 'row_num']"
      ]
     },
     "execution_count": 90,
     "metadata": {},
     "output_type": "execute_result"
    }
   ],
   "source": [
    "list(data.columns)"
   ]
  },
  {
   "cell_type": "code",
   "execution_count": 11,
   "id": "491abee2",
   "metadata": {},
   "outputs": [
    {
     "data": {
      "text/plain": [
       "pandas.core.indexes.base.Index"
      ]
     },
     "execution_count": 11,
     "metadata": {},
     "output_type": "execute_result"
    }
   ],
   "source": [
    "type(data.columns)"
   ]
  },
  {
   "cell_type": "code",
   "execution_count": 12,
   "id": "30770ace",
   "metadata": {},
   "outputs": [
    {
     "data": {
      "text/plain": [
       "['SavingAccount_Active_ARG_Salary',\n",
       " 'SavingAccount_Active_ARG',\n",
       " 'SavingAccount_Active_DOLLAR']"
      ]
     },
     "execution_count": 12,
     "metadata": {},
     "output_type": "execute_result"
    }
   ],
   "source": [
    "[x for x in data.columns if (x.find('SavingAccount') >= 0) & (x.find('Active') >= 0)]"
   ]
  },
  {
   "cell_type": "code",
   "execution_count": 13,
   "id": "071008c6",
   "metadata": {},
   "outputs": [
    {
     "data": {
      "text/plain": [
       "['SavingAccount_Active_ARG_Salary',\n",
       " 'SavingAccount_Active_ARG',\n",
       " 'SavingAccount_Active_DOLLAR']"
      ]
     },
     "execution_count": 13,
     "metadata": {},
     "output_type": "execute_result"
    }
   ],
   "source": [
    "[x for x in data.columns if ('SavingAccount' in x) and ('Active' in x)]"
   ]
  },
  {
   "cell_type": "code",
   "execution_count": 14,
   "id": "fd32d1a1",
   "metadata": {},
   "outputs": [
    {
     "data": {
      "text/plain": [
       "['CreditCard_Active',\n",
       " 'Loan_Active',\n",
       " 'Mortgage_Active',\n",
       " 'SavingAccount_Active_ARG_Salary',\n",
       " 'SavingAccount_Active_ARG',\n",
       " 'SavingAccount_Active_DOLLAR',\n",
       " 'DebitCard_Active',\n",
       " 'Investment_Active',\n",
       " 'Package_Active',\n",
       " 'SavingAccount_Balance_FirstDate',\n",
       " 'SavingAccount_Balance_LastDate',\n",
       " 'SavingAccount_Balance_Average',\n",
       " 'SavingAccount_Days_with_use',\n",
       " 'SavingAccount_Days_with_Credits',\n",
       " 'SavingAccount_Days_with_Debits',\n",
       " 'SavingAccount_Salary_Payment_Transactions',\n",
       " 'SavingAccount_Transfer_In_Transactions',\n",
       " 'SavingAccount_ATM_Extraction_Transactions',\n",
       " 'SavingAccount_Service_Payment_Transactions',\n",
       " 'SavingAccount_CreditCard_Payment_Transactions',\n",
       " 'SavingAccount_Transfer_Out_Transactions',\n",
       " 'SavingAccount_DebitCard_Spend_Transactions',\n",
       " 'SavingAccount_Transactions_Transactions',\n",
       " 'SavingAccount_Credits_Transactions',\n",
       " 'SavingAccount_Debits_Transactions',\n",
       " 'SavingAccount_Salary_Payment_Amount',\n",
       " 'SavingAccount_Transfer_In_Amount',\n",
       " 'SavingAccount_ATM_Extraction_Amount',\n",
       " 'SavingAccount_Service_Payment_Amount',\n",
       " 'SavingAccount_CreditCard_Payment_Amount',\n",
       " 'SavingAccount_Transfer_Out_Amount',\n",
       " 'SavingAccount_DebitCard_Spend_Amount',\n",
       " 'SavingAccount_Total_Amount',\n",
       " 'SavingAccount_Credits_Amounts',\n",
       " 'SavingAccount_Debits_Amounts']"
      ]
     },
     "execution_count": 14,
     "metadata": {},
     "output_type": "execute_result"
    }
   ],
   "source": [
    "[x for x in data.columns if (x.find('SavingAccount') >= 0) | (x.find('Active') >= 0)]"
   ]
  },
  {
   "cell_type": "code",
   "execution_count": 15,
   "id": "23f0999d",
   "metadata": {},
   "outputs": [
    {
     "data": {
      "text/plain": [
       "['CreditCard_Active',\n",
       " 'Loan_Active',\n",
       " 'Mortgage_Active',\n",
       " 'SavingAccount_Active_ARG_Salary',\n",
       " 'SavingAccount_Active_ARG',\n",
       " 'SavingAccount_Active_DOLLAR',\n",
       " 'DebitCard_Active',\n",
       " 'Investment_Active',\n",
       " 'Package_Active',\n",
       " 'SavingAccount_Balance_FirstDate',\n",
       " 'SavingAccount_Balance_LastDate',\n",
       " 'SavingAccount_Balance_Average',\n",
       " 'SavingAccount_Days_with_use',\n",
       " 'SavingAccount_Days_with_Credits',\n",
       " 'SavingAccount_Days_with_Debits',\n",
       " 'SavingAccount_Salary_Payment_Transactions',\n",
       " 'SavingAccount_Transfer_In_Transactions',\n",
       " 'SavingAccount_ATM_Extraction_Transactions',\n",
       " 'SavingAccount_Service_Payment_Transactions',\n",
       " 'SavingAccount_CreditCard_Payment_Transactions',\n",
       " 'SavingAccount_Transfer_Out_Transactions',\n",
       " 'SavingAccount_DebitCard_Spend_Transactions',\n",
       " 'SavingAccount_Transactions_Transactions',\n",
       " 'SavingAccount_Credits_Transactions',\n",
       " 'SavingAccount_Debits_Transactions',\n",
       " 'SavingAccount_Salary_Payment_Amount',\n",
       " 'SavingAccount_Transfer_In_Amount',\n",
       " 'SavingAccount_ATM_Extraction_Amount',\n",
       " 'SavingAccount_Service_Payment_Amount',\n",
       " 'SavingAccount_CreditCard_Payment_Amount',\n",
       " 'SavingAccount_Transfer_Out_Amount',\n",
       " 'SavingAccount_DebitCard_Spend_Amount',\n",
       " 'SavingAccount_Total_Amount',\n",
       " 'SavingAccount_Credits_Amounts',\n",
       " 'SavingAccount_Debits_Amounts']"
      ]
     },
     "execution_count": 15,
     "metadata": {},
     "output_type": "execute_result"
    }
   ],
   "source": [
    "[x for x in data.columns if ('SavingAccount' in x) or ('Active' in x)]"
   ]
  },
  {
   "cell_type": "code",
   "execution_count": 16,
   "id": "7d78a739",
   "metadata": {},
   "outputs": [
    {
     "data": {
      "text/plain": [
       "['client_id',\n",
       " 'Target',\n",
       " 'Month',\n",
       " 'First_product_dt',\n",
       " 'Last_product_dt',\n",
       " 'CreditCard_Premium',\n",
       " 'CreditCard_Active',\n",
       " 'CreditCard_CoBranding',\n",
       " 'Loan_Active',\n",
       " 'Mortgage_Active',\n",
       " 'SavingAccount_Active_ARG_Salary',\n",
       " 'SavingAccount_Active_ARG',\n",
       " 'SavingAccount_Active_DOLLAR',\n",
       " 'DebitCard_Active',\n",
       " 'Investment_Active',\n",
       " 'Package_Active',\n",
       " 'Insurance_Life',\n",
       " 'Insurance_Home',\n",
       " 'Insurance_Accidents',\n",
       " 'Insurance_Mobile',\n",
       " 'Insurance_ATM',\n",
       " 'Insurance_Unemployment',\n",
       " 'Sex',\n",
       " 'Client_Age_grp',\n",
       " 'SavingAccount_Balance_FirstDate',\n",
       " 'SavingAccount_Balance_LastDate',\n",
       " 'SavingAccount_Balance_Average',\n",
       " 'SavingAccount_Days_with_use',\n",
       " 'SavingAccount_Days_with_Credits',\n",
       " 'SavingAccount_Days_with_Debits',\n",
       " 'SavingAccount_Salary_Payment_Transactions',\n",
       " 'SavingAccount_Transfer_In_Transactions',\n",
       " 'SavingAccount_ATM_Extraction_Transactions',\n",
       " 'SavingAccount_Service_Payment_Transactions',\n",
       " 'SavingAccount_CreditCard_Payment_Transactions',\n",
       " 'SavingAccount_Transfer_Out_Transactions',\n",
       " 'SavingAccount_DebitCard_Spend_Transactions',\n",
       " 'SavingAccount_Transactions_Transactions',\n",
       " 'SavingAccount_Credits_Transactions',\n",
       " 'SavingAccount_Debits_Transactions',\n",
       " 'SavingAccount_Salary_Payment_Amount',\n",
       " 'SavingAccount_Transfer_In_Amount',\n",
       " 'SavingAccount_ATM_Extraction_Amount',\n",
       " 'SavingAccount_Service_Payment_Amount',\n",
       " 'SavingAccount_CreditCard_Payment_Amount',\n",
       " 'SavingAccount_Transfer_Out_Amount',\n",
       " 'SavingAccount_DebitCard_Spend_Amount',\n",
       " 'SavingAccount_Total_Amount',\n",
       " 'SavingAccount_Credits_Amounts',\n",
       " 'SavingAccount_Debits_Amounts',\n",
       " 'Operations_Bank',\n",
       " 'Operations_Terminal',\n",
       " 'Operations_HomeBanking',\n",
       " 'Operations_Mobile',\n",
       " 'Operations_Ivr',\n",
       " 'Operations_Telemarketer',\n",
       " 'Operations_ATM',\n",
       " 'CreditCard_Balance_ARG',\n",
       " 'CreditCard_Balance_DOLLAR',\n",
       " 'CreditCard_Total_Limit',\n",
       " 'CreditCard_Total_Spending',\n",
       " 'CreditCard_Spending_1_Installment',\n",
       " 'CreditCard_Spending_Installments',\n",
       " 'CreditCard_Spending_CrossBoarder',\n",
       " 'CreditCard_Spending_Aut_Debits',\n",
       " 'CreditCard_Revolving',\n",
       " 'CreditCard_Payment_Aut_Debit',\n",
       " 'CreditCard_Payment_External',\n",
       " 'CreditCard_Payment_Cash',\n",
       " 'CreditCard_Payment_Web',\n",
       " 'CreditCard_Payment_ATM',\n",
       " 'CreditCard_Payment_TAS',\n",
       " 'Investment_Numbers',\n",
       " 'Mobile',\n",
       " 'Email',\n",
       " 'Region',\n",
       " 'CreditCard_Product']"
      ]
     },
     "execution_count": 16,
     "metadata": {},
     "output_type": "execute_result"
    }
   ],
   "source": [
    "[x for x in data.columns if ~x.startswith('SavingAccount')]"
   ]
  },
  {
   "cell_type": "code",
   "execution_count": 17,
   "id": "1ccfb612",
   "metadata": {},
   "outputs": [
    {
     "data": {
      "text/plain": [
       "['client_id',\n",
       " 'Target',\n",
       " 'Month',\n",
       " 'First_product_dt',\n",
       " 'Last_product_dt',\n",
       " 'CreditCard_Premium',\n",
       " 'CreditCard_Active',\n",
       " 'CreditCard_CoBranding',\n",
       " 'Loan_Active',\n",
       " 'Mortgage_Active',\n",
       " 'DebitCard_Active',\n",
       " 'Investment_Active',\n",
       " 'Package_Active',\n",
       " 'Insurance_Life',\n",
       " 'Insurance_Home',\n",
       " 'Insurance_Accidents',\n",
       " 'Insurance_Mobile',\n",
       " 'Insurance_ATM',\n",
       " 'Insurance_Unemployment',\n",
       " 'Sex',\n",
       " 'Client_Age_grp',\n",
       " 'Operations_Bank',\n",
       " 'Operations_Terminal',\n",
       " 'Operations_HomeBanking',\n",
       " 'Operations_Mobile',\n",
       " 'Operations_Ivr',\n",
       " 'Operations_Telemarketer',\n",
       " 'Operations_ATM',\n",
       " 'CreditCard_Balance_ARG',\n",
       " 'CreditCard_Balance_DOLLAR',\n",
       " 'CreditCard_Total_Limit',\n",
       " 'CreditCard_Total_Spending',\n",
       " 'CreditCard_Spending_1_Installment',\n",
       " 'CreditCard_Spending_Installments',\n",
       " 'CreditCard_Spending_CrossBoarder',\n",
       " 'CreditCard_Spending_Aut_Debits',\n",
       " 'CreditCard_Revolving',\n",
       " 'CreditCard_Payment_Aut_Debit',\n",
       " 'CreditCard_Payment_External',\n",
       " 'CreditCard_Payment_Cash',\n",
       " 'CreditCard_Payment_Web',\n",
       " 'CreditCard_Payment_ATM',\n",
       " 'CreditCard_Payment_TAS',\n",
       " 'Investment_Numbers',\n",
       " 'Mobile',\n",
       " 'Email',\n",
       " 'Region',\n",
       " 'CreditCard_Product']"
      ]
     },
     "execution_count": 17,
     "metadata": {},
     "output_type": "execute_result"
    }
   ],
   "source": [
    "[x for x in data.columns if not x.startswith('SavingAccount')]"
   ]
  },
  {
   "cell_type": "code",
   "execution_count": 18,
   "id": "d41d6c0c",
   "metadata": {},
   "outputs": [
    {
     "data": {
      "text/plain": [
       "['SavingAccount_Active_ARG_Salary',\n",
       " 'SavingAccount_Active_ARG',\n",
       " 'SavingAccount_Active_DOLLAR',\n",
       " 'SavingAccount_Balance_FirstDate',\n",
       " 'SavingAccount_Balance_LastDate',\n",
       " 'SavingAccount_Balance_Average',\n",
       " 'SavingAccount_Days_with_use',\n",
       " 'SavingAccount_Days_with_Credits',\n",
       " 'SavingAccount_Days_with_Debits',\n",
       " 'SavingAccount_Salary_Payment_Transactions',\n",
       " 'SavingAccount_Transfer_In_Transactions',\n",
       " 'SavingAccount_ATM_Extraction_Transactions',\n",
       " 'SavingAccount_Service_Payment_Transactions',\n",
       " 'SavingAccount_CreditCard_Payment_Transactions',\n",
       " 'SavingAccount_Transfer_Out_Transactions',\n",
       " 'SavingAccount_DebitCard_Spend_Transactions',\n",
       " 'SavingAccount_Transactions_Transactions',\n",
       " 'SavingAccount_Credits_Transactions',\n",
       " 'SavingAccount_Debits_Transactions',\n",
       " 'SavingAccount_Salary_Payment_Amount',\n",
       " 'SavingAccount_Transfer_In_Amount',\n",
       " 'SavingAccount_ATM_Extraction_Amount',\n",
       " 'SavingAccount_Service_Payment_Amount',\n",
       " 'SavingAccount_CreditCard_Payment_Amount',\n",
       " 'SavingAccount_Transfer_Out_Amount',\n",
       " 'SavingAccount_DebitCard_Spend_Amount',\n",
       " 'SavingAccount_Total_Amount',\n",
       " 'SavingAccount_Credits_Amounts',\n",
       " 'SavingAccount_Debits_Amounts']"
      ]
     },
     "execution_count": 18,
     "metadata": {},
     "output_type": "execute_result"
    }
   ],
   "source": [
    "[x for x in data.columns if x.startswith('SavingAccount')]"
   ]
  },
  {
   "cell_type": "code",
   "execution_count": 19,
   "id": "1b64816d",
   "metadata": {},
   "outputs": [
    {
     "data": {
      "text/plain": [
       "['SavingAccount_Credits_Amounts', 'SavingAccount_Debits_Amounts']"
      ]
     },
     "execution_count": 19,
     "metadata": {},
     "output_type": "execute_result"
    }
   ],
   "source": [
    "[x for x in data.columns if x.endswith('Amounts')]"
   ]
  },
  {
   "cell_type": "code",
   "execution_count": 20,
   "id": "ff455caa",
   "metadata": {},
   "outputs": [
    {
     "data": {
      "text/plain": [
       "['SavingAccount_DebitCard_Spend_Transactions',\n",
       " 'SavingAccount_DebitCard_Spend_Amount',\n",
       " 'CreditCard_Total_Spending',\n",
       " 'CreditCard_Spending_1_Installment',\n",
       " 'CreditCard_Spending_Installments',\n",
       " 'CreditCard_Spending_CrossBoarder',\n",
       " 'CreditCard_Spending_Aut_Debits']"
      ]
     },
     "execution_count": 20,
     "metadata": {},
     "output_type": "execute_result"
    }
   ],
   "source": [
    "[x for x in data.columns if x.find('Spend') >= 0]"
   ]
  },
  {
   "cell_type": "code",
   "execution_count": 21,
   "id": "e22c5b6a",
   "metadata": {},
   "outputs": [
    {
     "data": {
      "text/plain": [
       "['SavingAccount_DebitCard_Spend_Transactions',\n",
       " 'SavingAccount_DebitCard_Spend_Amount',\n",
       " 'CreditCard_Total_Spending',\n",
       " 'CreditCard_Spending_1_Installment',\n",
       " 'CreditCard_Spending_Installments',\n",
       " 'CreditCard_Spending_CrossBoarder',\n",
       " 'CreditCard_Spending_Aut_Debits']"
      ]
     },
     "execution_count": 21,
     "metadata": {},
     "output_type": "execute_result"
    }
   ],
   "source": [
    "[x for x in data.columns if 'Spend' in x]"
   ]
  },
  {
   "cell_type": "code",
   "execution_count": 22,
   "id": "c632b9d3",
   "metadata": {},
   "outputs": [
    {
     "data": {
      "text/plain": [
       "client_id              object\n",
       "Target                float64\n",
       "Month                  object\n",
       "First_product_dt       object\n",
       "Last_product_dt        object\n",
       "                       ...   \n",
       "Investment_Numbers    float64\n",
       "Mobile                 object\n",
       "Email                  object\n",
       "Region                 object\n",
       "CreditCard_Product     object\n",
       "Length: 77, dtype: object"
      ]
     },
     "execution_count": 22,
     "metadata": {},
     "output_type": "execute_result"
    }
   ],
   "source": [
    "data.dtypes"
   ]
  },
  {
   "cell_type": "code",
   "execution_count": 23,
   "id": "a447070e",
   "metadata": {},
   "outputs": [
    {
     "data": {
      "text/plain": [
       "Target\n",
       "0.0    176359\n",
       "1.0     62256\n",
       "Name: count, dtype: int64"
      ]
     },
     "execution_count": 23,
     "metadata": {},
     "output_type": "execute_result"
    }
   ],
   "source": [
    "data.Target.value_counts()"
   ]
  },
  {
   "cell_type": "code",
   "execution_count": 24,
   "id": "fa9a12f4",
   "metadata": {},
   "outputs": [
    {
     "data": {
      "text/plain": [
       "Target\n",
       "0.0    176359\n",
       "1.0     62256\n",
       "Name: count, dtype: int64"
      ]
     },
     "execution_count": 24,
     "metadata": {},
     "output_type": "execute_result"
    }
   ],
   "source": [
    "data['Target'].value_counts()"
   ]
  },
  {
   "cell_type": "code",
   "execution_count": 25,
   "id": "4b20b294",
   "metadata": {},
   "outputs": [
    {
     "data": {
      "text/html": [
       "<div>\n",
       "<style scoped>\n",
       "    .dataframe tbody tr th:only-of-type {\n",
       "        vertical-align: middle;\n",
       "    }\n",
       "\n",
       "    .dataframe tbody tr th {\n",
       "        vertical-align: top;\n",
       "    }\n",
       "\n",
       "    .dataframe thead th {\n",
       "        text-align: right;\n",
       "    }\n",
       "</style>\n",
       "<table border=\"1\" class=\"dataframe\">\n",
       "  <thead>\n",
       "    <tr style=\"text-align: right;\">\n",
       "      <th></th>\n",
       "      <th>Target</th>\n",
       "      <th>Email</th>\n",
       "      <th>count</th>\n",
       "    </tr>\n",
       "  </thead>\n",
       "  <tbody>\n",
       "    <tr>\n",
       "      <th>0</th>\n",
       "      <td>0.0</td>\n",
       "      <td>Yes</td>\n",
       "      <td>125218</td>\n",
       "    </tr>\n",
       "    <tr>\n",
       "      <th>1</th>\n",
       "      <td>0.0</td>\n",
       "      <td>No</td>\n",
       "      <td>51141</td>\n",
       "    </tr>\n",
       "    <tr>\n",
       "      <th>2</th>\n",
       "      <td>1.0</td>\n",
       "      <td>Yes</td>\n",
       "      <td>46835</td>\n",
       "    </tr>\n",
       "    <tr>\n",
       "      <th>3</th>\n",
       "      <td>1.0</td>\n",
       "      <td>No</td>\n",
       "      <td>15421</td>\n",
       "    </tr>\n",
       "  </tbody>\n",
       "</table>\n",
       "</div>"
      ],
      "text/plain": [
       "   Target Email   count\n",
       "0     0.0   Yes  125218\n",
       "1     0.0    No   51141\n",
       "2     1.0   Yes   46835\n",
       "3     1.0    No   15421"
      ]
     },
     "execution_count": 25,
     "metadata": {},
     "output_type": "execute_result"
    }
   ],
   "source": [
    "data[['Target', 'Email']].value_counts().reset_index()"
   ]
  },
  {
   "cell_type": "code",
   "execution_count": 26,
   "id": "a20b3bc6",
   "metadata": {},
   "outputs": [
    {
     "ename": "KeyError",
     "evalue": "'Target'",
     "output_type": "error",
     "traceback": [
      "\u001b[0;31m---------------------------------------------------------------------------\u001b[0m",
      "\u001b[0;31mKeyError\u001b[0m                                  Traceback (most recent call last)",
      "File \u001b[0;32m~/workspace/virtualenvs/machine_learning-UIi7gfOb/lib/python3.11/site-packages/pandas/core/indexes/base.py:3790\u001b[0m, in \u001b[0;36mIndex.get_loc\u001b[0;34m(self, key)\u001b[0m\n\u001b[1;32m   3789\u001b[0m \u001b[39mtry\u001b[39;00m:\n\u001b[0;32m-> 3790\u001b[0m     \u001b[39mreturn\u001b[39;00m \u001b[39mself\u001b[39;49m\u001b[39m.\u001b[39;49m_engine\u001b[39m.\u001b[39;49mget_loc(casted_key)\n\u001b[1;32m   3791\u001b[0m \u001b[39mexcept\u001b[39;00m \u001b[39mKeyError\u001b[39;00m \u001b[39mas\u001b[39;00m err:\n",
      "File \u001b[0;32mindex.pyx:152\u001b[0m, in \u001b[0;36mpandas._libs.index.IndexEngine.get_loc\u001b[0;34m()\u001b[0m\n",
      "File \u001b[0;32mindex.pyx:181\u001b[0m, in \u001b[0;36mpandas._libs.index.IndexEngine.get_loc\u001b[0;34m()\u001b[0m\n",
      "File \u001b[0;32mpandas/_libs/hashtable_class_helper.pxi:7080\u001b[0m, in \u001b[0;36mpandas._libs.hashtable.PyObjectHashTable.get_item\u001b[0;34m()\u001b[0m\n",
      "File \u001b[0;32mpandas/_libs/hashtable_class_helper.pxi:7088\u001b[0m, in \u001b[0;36mpandas._libs.hashtable.PyObjectHashTable.get_item\u001b[0;34m()\u001b[0m\n",
      "\u001b[0;31mKeyError\u001b[0m: 'Target'",
      "\nThe above exception was the direct cause of the following exception:\n",
      "\u001b[0;31mKeyError\u001b[0m                                  Traceback (most recent call last)",
      "Cell \u001b[0;32mIn[26], line 5\u001b[0m\n\u001b[1;32m      1\u001b[0m pepe \u001b[39m=\u001b[39m data\n\u001b[1;32m      3\u001b[0m pepe\u001b[39m.\u001b[39mdrop(\u001b[39m'\u001b[39m\u001b[39mTarget\u001b[39m\u001b[39m'\u001b[39m, axis\u001b[39m=\u001b[39m\u001b[39m1\u001b[39m, inplace\u001b[39m=\u001b[39m\u001b[39mTrue\u001b[39;00m)\n\u001b[0;32m----> 5\u001b[0m data[\u001b[39m'\u001b[39;49m\u001b[39mTarget\u001b[39;49m\u001b[39m'\u001b[39;49m]\n\u001b[1;32m      7\u001b[0m \u001b[39m# NOTA: La idea de este paso es poder ver que data y pepe apuntan al mismo contenido, por lo que modificar pepe, modifica a data tambien\u001b[39;00m\n",
      "File \u001b[0;32m~/workspace/virtualenvs/machine_learning-UIi7gfOb/lib/python3.11/site-packages/pandas/core/frame.py:3896\u001b[0m, in \u001b[0;36mDataFrame.__getitem__\u001b[0;34m(self, key)\u001b[0m\n\u001b[1;32m   3894\u001b[0m \u001b[39mif\u001b[39;00m \u001b[39mself\u001b[39m\u001b[39m.\u001b[39mcolumns\u001b[39m.\u001b[39mnlevels \u001b[39m>\u001b[39m \u001b[39m1\u001b[39m:\n\u001b[1;32m   3895\u001b[0m     \u001b[39mreturn\u001b[39;00m \u001b[39mself\u001b[39m\u001b[39m.\u001b[39m_getitem_multilevel(key)\n\u001b[0;32m-> 3896\u001b[0m indexer \u001b[39m=\u001b[39m \u001b[39mself\u001b[39;49m\u001b[39m.\u001b[39;49mcolumns\u001b[39m.\u001b[39;49mget_loc(key)\n\u001b[1;32m   3897\u001b[0m \u001b[39mif\u001b[39;00m is_integer(indexer):\n\u001b[1;32m   3898\u001b[0m     indexer \u001b[39m=\u001b[39m [indexer]\n",
      "File \u001b[0;32m~/workspace/virtualenvs/machine_learning-UIi7gfOb/lib/python3.11/site-packages/pandas/core/indexes/base.py:3797\u001b[0m, in \u001b[0;36mIndex.get_loc\u001b[0;34m(self, key)\u001b[0m\n\u001b[1;32m   3792\u001b[0m     \u001b[39mif\u001b[39;00m \u001b[39misinstance\u001b[39m(casted_key, \u001b[39mslice\u001b[39m) \u001b[39mor\u001b[39;00m (\n\u001b[1;32m   3793\u001b[0m         \u001b[39misinstance\u001b[39m(casted_key, abc\u001b[39m.\u001b[39mIterable)\n\u001b[1;32m   3794\u001b[0m         \u001b[39mand\u001b[39;00m \u001b[39many\u001b[39m(\u001b[39misinstance\u001b[39m(x, \u001b[39mslice\u001b[39m) \u001b[39mfor\u001b[39;00m x \u001b[39min\u001b[39;00m casted_key)\n\u001b[1;32m   3795\u001b[0m     ):\n\u001b[1;32m   3796\u001b[0m         \u001b[39mraise\u001b[39;00m InvalidIndexError(key)\n\u001b[0;32m-> 3797\u001b[0m     \u001b[39mraise\u001b[39;00m \u001b[39mKeyError\u001b[39;00m(key) \u001b[39mfrom\u001b[39;00m \u001b[39merr\u001b[39;00m\n\u001b[1;32m   3798\u001b[0m \u001b[39mexcept\u001b[39;00m \u001b[39mTypeError\u001b[39;00m:\n\u001b[1;32m   3799\u001b[0m     \u001b[39m# If we have a listlike key, _check_indexing_error will raise\u001b[39;00m\n\u001b[1;32m   3800\u001b[0m     \u001b[39m#  InvalidIndexError. Otherwise we fall through and re-raise\u001b[39;00m\n\u001b[1;32m   3801\u001b[0m     \u001b[39m#  the TypeError.\u001b[39;00m\n\u001b[1;32m   3802\u001b[0m     \u001b[39mself\u001b[39m\u001b[39m.\u001b[39m_check_indexing_error(key)\n",
      "\u001b[0;31mKeyError\u001b[0m: 'Target'"
     ]
    }
   ],
   "source": [
    "pepe = data\n",
    "\n",
    "pepe.drop('Target', axis=1, inplace=True)\n",
    "\n",
    "data['Target']\n",
    "\n",
    "# NOTA: La idea de este paso es poder ver que data y pepe apuntan al mismo contenido, por lo que modificar pepe, modifica a data tambien"
   ]
  },
  {
   "cell_type": "code",
   "execution_count": 27,
   "id": "495733f9",
   "metadata": {},
   "outputs": [
    {
     "name": "stderr",
     "output_type": "stream",
     "text": [
      "/tmp/ipykernel_540630/231482731.py:1: DtypeWarning: Columns (0) have mixed types. Specify dtype option on import or set low_memory=False.\n",
      "  data = pd.read_csv('./data.csv', sep='|')\n"
     ]
    },
    {
     "data": {
      "text/plain": [
       "0         1.0\n",
       "1         0.0\n",
       "2         0.0\n",
       "3         0.0\n",
       "4         0.0\n",
       "         ... \n",
       "238611    0.0\n",
       "238612    0.0\n",
       "238613    0.0\n",
       "238614    0.0\n",
       "238615    NaN\n",
       "Name: Target, Length: 238616, dtype: float64"
      ]
     },
     "execution_count": 27,
     "metadata": {},
     "output_type": "execute_result"
    }
   ],
   "source": [
    "data = pd.read_csv('./data.csv', sep='|')\n",
    "\n",
    "pepe = data.copy()\n",
    "\n",
    "pepe.drop('Target', axis=1, inplace=True)\n",
    "\n",
    "data['Target']"
   ]
  },
  {
   "cell_type": "code",
   "execution_count": 28,
   "id": "ec03e671",
   "metadata": {},
   "outputs": [
    {
     "data": {
      "text/plain": [
       "(238616, 77)"
      ]
     },
     "execution_count": 28,
     "metadata": {},
     "output_type": "execute_result"
    }
   ],
   "source": [
    "data.shape"
   ]
  },
  {
   "cell_type": "code",
   "execution_count": 29,
   "id": "92697123",
   "metadata": {},
   "outputs": [
    {
     "data": {
      "text/plain": [
       "(27591, 2)"
      ]
     },
     "execution_count": 29,
     "metadata": {},
     "output_type": "execute_result"
    }
   ],
   "source": [
    "# filter Columns\n",
    "data_tgt = data[['Target', 'client_id']].drop_duplicates()\n",
    "data_tgt.shape"
   ]
  },
  {
   "cell_type": "code",
   "execution_count": 30,
   "id": "cff63c98",
   "metadata": {},
   "outputs": [
    {
     "data": {
      "text/plain": [
       "(27591, 1)"
      ]
     },
     "execution_count": 30,
     "metadata": {},
     "output_type": "execute_result"
    }
   ],
   "source": [
    "# filter Columns\n",
    "data_tgt = data[[ 'client_id']].drop_duplicates()\n",
    "data_tgt.shape"
   ]
  },
  {
   "cell_type": "code",
   "execution_count": 31,
   "id": "92111db3",
   "metadata": {},
   "outputs": [],
   "source": [
    "# filter rows\n",
    "data = data[ (data.client_id != '(238615 rows affected)')]\n",
    "data = data[~(data.client_id == '(238615 rows affected)')]"
   ]
  },
  {
   "cell_type": "code",
   "execution_count": 32,
   "id": "bc557b43",
   "metadata": {},
   "outputs": [
    {
     "data": {
      "text/plain": [
       "(238615, 77)"
      ]
     },
     "execution_count": 32,
     "metadata": {},
     "output_type": "execute_result"
    }
   ],
   "source": [
    "data.shape"
   ]
  },
  {
   "cell_type": "code",
   "execution_count": 33,
   "id": "9922eec0",
   "metadata": {},
   "outputs": [
    {
     "data": {
      "text/plain": [
       "client_id              object\n",
       "Target                float64\n",
       "Month                  object\n",
       "First_product_dt       object\n",
       "Last_product_dt        object\n",
       "                       ...   \n",
       "Investment_Numbers    float64\n",
       "Mobile                 object\n",
       "Email                  object\n",
       "Region                 object\n",
       "CreditCard_Product     object\n",
       "Length: 77, dtype: object"
      ]
     },
     "execution_count": 33,
     "metadata": {},
     "output_type": "execute_result"
    }
   ],
   "source": [
    "data.dtypes"
   ]
  },
  {
   "cell_type": "code",
   "execution_count": 34,
   "id": "069fe5be",
   "metadata": {},
   "outputs": [
    {
     "data": {
      "text/plain": [
       "(0, 77)"
      ]
     },
     "execution_count": 34,
     "metadata": {},
     "output_type": "execute_result"
    }
   ],
   "source": [
    "\n",
    "data_only_one = data[(data['Target'] == '1') ]\n",
    "data_only_one.shape"
   ]
  },
  {
   "cell_type": "code",
   "execution_count": 35,
   "id": "1e4c7121",
   "metadata": {},
   "outputs": [
    {
     "ename": "TypeError",
     "evalue": "'<' not supported between instances of 'str' and 'int'",
     "output_type": "error",
     "traceback": [
      "\u001b[0;31m---------------------------------------------------------------------------\u001b[0m",
      "\u001b[0;31mTypeError\u001b[0m                                 Traceback (most recent call last)",
      "Cell \u001b[0;32mIn[35], line 1\u001b[0m\n\u001b[0;32m----> 1\u001b[0m data_only_one \u001b[39m=\u001b[39m data[(data[\u001b[39m'\u001b[39m\u001b[39mTarget\u001b[39m\u001b[39m'\u001b[39m] \u001b[39m==\u001b[39m \u001b[39m1\u001b[39m) \u001b[39m&\u001b[39m (data[\u001b[39m'\u001b[39;49m\u001b[39mclient_id\u001b[39;49m\u001b[39m'\u001b[39;49m] \u001b[39m<\u001b[39;49m \u001b[39m2132\u001b[39;49m)]\n\u001b[1;32m      2\u001b[0m data_only_one\u001b[39m.\u001b[39mshape\n",
      "File \u001b[0;32m~/workspace/virtualenvs/machine_learning-UIi7gfOb/lib/python3.11/site-packages/pandas/core/ops/common.py:76\u001b[0m, in \u001b[0;36m_unpack_zerodim_and_defer.<locals>.new_method\u001b[0;34m(self, other)\u001b[0m\n\u001b[1;32m     72\u001b[0m             \u001b[39mreturn\u001b[39;00m \u001b[39mNotImplemented\u001b[39m\n\u001b[1;32m     74\u001b[0m other \u001b[39m=\u001b[39m item_from_zerodim(other)\n\u001b[0;32m---> 76\u001b[0m \u001b[39mreturn\u001b[39;00m method(\u001b[39mself\u001b[39;49m, other)\n",
      "File \u001b[0;32m~/workspace/virtualenvs/machine_learning-UIi7gfOb/lib/python3.11/site-packages/pandas/core/arraylike.py:48\u001b[0m, in \u001b[0;36mOpsMixin.__lt__\u001b[0;34m(self, other)\u001b[0m\n\u001b[1;32m     46\u001b[0m \u001b[39m@unpack_zerodim_and_defer\u001b[39m(\u001b[39m\"\u001b[39m\u001b[39m__lt__\u001b[39m\u001b[39m\"\u001b[39m)\n\u001b[1;32m     47\u001b[0m \u001b[39mdef\u001b[39;00m \u001b[39m__lt__\u001b[39m(\u001b[39mself\u001b[39m, other):\n\u001b[0;32m---> 48\u001b[0m     \u001b[39mreturn\u001b[39;00m \u001b[39mself\u001b[39;49m\u001b[39m.\u001b[39;49m_cmp_method(other, operator\u001b[39m.\u001b[39;49mlt)\n",
      "File \u001b[0;32m~/workspace/virtualenvs/machine_learning-UIi7gfOb/lib/python3.11/site-packages/pandas/core/series.py:5804\u001b[0m, in \u001b[0;36mSeries._cmp_method\u001b[0;34m(self, other, op)\u001b[0m\n\u001b[1;32m   5801\u001b[0m lvalues \u001b[39m=\u001b[39m \u001b[39mself\u001b[39m\u001b[39m.\u001b[39m_values\n\u001b[1;32m   5802\u001b[0m rvalues \u001b[39m=\u001b[39m extract_array(other, extract_numpy\u001b[39m=\u001b[39m\u001b[39mTrue\u001b[39;00m, extract_range\u001b[39m=\u001b[39m\u001b[39mTrue\u001b[39;00m)\n\u001b[0;32m-> 5804\u001b[0m res_values \u001b[39m=\u001b[39m ops\u001b[39m.\u001b[39;49mcomparison_op(lvalues, rvalues, op)\n\u001b[1;32m   5806\u001b[0m \u001b[39mreturn\u001b[39;00m \u001b[39mself\u001b[39m\u001b[39m.\u001b[39m_construct_result(res_values, name\u001b[39m=\u001b[39mres_name)\n",
      "File \u001b[0;32m~/workspace/virtualenvs/machine_learning-UIi7gfOb/lib/python3.11/site-packages/pandas/core/ops/array_ops.py:346\u001b[0m, in \u001b[0;36mcomparison_op\u001b[0;34m(left, right, op)\u001b[0m\n\u001b[1;32m    343\u001b[0m     \u001b[39mreturn\u001b[39;00m invalid_comparison(lvalues, rvalues, op)\n\u001b[1;32m    345\u001b[0m \u001b[39melif\u001b[39;00m lvalues\u001b[39m.\u001b[39mdtype \u001b[39m==\u001b[39m \u001b[39mobject\u001b[39m \u001b[39mor\u001b[39;00m \u001b[39misinstance\u001b[39m(rvalues, \u001b[39mstr\u001b[39m):\n\u001b[0;32m--> 346\u001b[0m     res_values \u001b[39m=\u001b[39m comp_method_OBJECT_ARRAY(op, lvalues, rvalues)\n\u001b[1;32m    348\u001b[0m \u001b[39melse\u001b[39;00m:\n\u001b[1;32m    349\u001b[0m     res_values \u001b[39m=\u001b[39m _na_arithmetic_op(lvalues, rvalues, op, is_cmp\u001b[39m=\u001b[39m\u001b[39mTrue\u001b[39;00m)\n",
      "File \u001b[0;32m~/workspace/virtualenvs/machine_learning-UIi7gfOb/lib/python3.11/site-packages/pandas/core/ops/array_ops.py:131\u001b[0m, in \u001b[0;36mcomp_method_OBJECT_ARRAY\u001b[0;34m(op, x, y)\u001b[0m\n\u001b[1;32m    129\u001b[0m     result \u001b[39m=\u001b[39m libops\u001b[39m.\u001b[39mvec_compare(x\u001b[39m.\u001b[39mravel(), y\u001b[39m.\u001b[39mravel(), op)\n\u001b[1;32m    130\u001b[0m \u001b[39melse\u001b[39;00m:\n\u001b[0;32m--> 131\u001b[0m     result \u001b[39m=\u001b[39m libops\u001b[39m.\u001b[39;49mscalar_compare(x\u001b[39m.\u001b[39;49mravel(), y, op)\n\u001b[1;32m    132\u001b[0m \u001b[39mreturn\u001b[39;00m result\u001b[39m.\u001b[39mreshape(x\u001b[39m.\u001b[39mshape)\n",
      "File \u001b[0;32mops.pyx:107\u001b[0m, in \u001b[0;36mpandas._libs.ops.scalar_compare\u001b[0;34m()\u001b[0m\n",
      "\u001b[0;31mTypeError\u001b[0m: '<' not supported between instances of 'str' and 'int'"
     ]
    }
   ],
   "source": [
    "\n",
    "data_only_one = data[(data['Target'] == 1) & (data['client_id'] < 2132)]\n",
    "data_only_one.shape"
   ]
  },
  {
   "cell_type": "code",
   "execution_count": 36,
   "id": "02413fc3",
   "metadata": {},
   "outputs": [
    {
     "data": {
      "text/plain": [
       "(9, 77)"
      ]
     },
     "execution_count": 36,
     "metadata": {},
     "output_type": "execute_result"
    }
   ],
   "source": [
    "# cast\n",
    "data_only_one = data[(data['Target'] == 1) & (data['client_id'].astype(np.int64) < 2132)]\n",
    "data_only_one.shape"
   ]
  },
  {
   "cell_type": "code",
   "execution_count": 37,
   "id": "60a6812d",
   "metadata": {},
   "outputs": [],
   "source": [
    "data2 = data.copy()"
   ]
  },
  {
   "cell_type": "code",
   "execution_count": 38,
   "id": "6571a3e0",
   "metadata": {},
   "outputs": [
    {
     "data": {
      "text/plain": [
       "77"
      ]
     },
     "execution_count": 38,
     "metadata": {},
     "output_type": "execute_result"
    }
   ],
   "source": [
    "len(data2.columns)"
   ]
  },
  {
   "cell_type": "code",
   "execution_count": 39,
   "id": "3eba8997",
   "metadata": {},
   "outputs": [
    {
     "data": {
      "text/plain": [
       "76"
      ]
     },
     "execution_count": 39,
     "metadata": {},
     "output_type": "execute_result"
    }
   ],
   "source": [
    "# drop columns\n",
    "\n",
    "data2 = data2.drop('client_id', axis=1)\n",
    "len(data2.columns)"
   ]
  },
  {
   "cell_type": "code",
   "execution_count": 40,
   "id": "b6fd259c",
   "metadata": {},
   "outputs": [
    {
     "data": {
      "text/plain": [
       "76"
      ]
     },
     "execution_count": 40,
     "metadata": {},
     "output_type": "execute_result"
    }
   ],
   "source": [
    "data2.drop('Target', axis=1)\n",
    "len(data2.columns)"
   ]
  },
  {
   "cell_type": "code",
   "execution_count": 41,
   "id": "67ba7e6c",
   "metadata": {},
   "outputs": [
    {
     "data": {
      "text/plain": [
       "75"
      ]
     },
     "execution_count": 41,
     "metadata": {},
     "output_type": "execute_result"
    }
   ],
   "source": [
    "data2.drop('Target', axis=1, inplace=True)\n",
    "len(data2.columns)"
   ]
  },
  {
   "cell_type": "code",
   "execution_count": 42,
   "id": "32d2a6d6",
   "metadata": {},
   "outputs": [
    {
     "data": {
      "text/plain": [
       "69"
      ]
     },
     "execution_count": 42,
     "metadata": {},
     "output_type": "execute_result"
    }
   ],
   "source": [
    "data2.drop(['SavingAccount_Debits_Transactions',\n",
    "       'SavingAccount_Salary_Payment_Amount',\n",
    "       'SavingAccount_Transfer_In_Amount',\n",
    "       'SavingAccount_ATM_Extraction_Amount',\n",
    "       'SavingAccount_Service_Payment_Amount',\n",
    "       'SavingAccount_CreditCard_Payment_Amount'], axis=1, inplace=True)\n",
    "len(data2.columns)\n"
   ]
  },
  {
   "cell_type": "code",
   "execution_count": 43,
   "id": "a6f6a074",
   "metadata": {},
   "outputs": [
    {
     "data": {
      "text/html": [
       "<div>\n",
       "<style scoped>\n",
       "    .dataframe tbody tr th:only-of-type {\n",
       "        vertical-align: middle;\n",
       "    }\n",
       "\n",
       "    .dataframe tbody tr th {\n",
       "        vertical-align: top;\n",
       "    }\n",
       "\n",
       "    .dataframe thead th {\n",
       "        text-align: right;\n",
       "    }\n",
       "</style>\n",
       "<table border=\"1\" class=\"dataframe\">\n",
       "  <thead>\n",
       "    <tr style=\"text-align: right;\">\n",
       "      <th></th>\n",
       "      <th>Target</th>\n",
       "      <th>SavingAccount_Balance_FirstDate</th>\n",
       "      <th>SavingAccount_Balance_LastDate</th>\n",
       "      <th>SavingAccount_Balance_Average</th>\n",
       "      <th>SavingAccount_Days_with_use</th>\n",
       "      <th>SavingAccount_Days_with_Credits</th>\n",
       "      <th>SavingAccount_Days_with_Debits</th>\n",
       "      <th>SavingAccount_Salary_Payment_Transactions</th>\n",
       "      <th>SavingAccount_Transfer_In_Transactions</th>\n",
       "      <th>SavingAccount_ATM_Extraction_Transactions</th>\n",
       "      <th>...</th>\n",
       "      <th>CreditCard_Spending_CrossBoarder</th>\n",
       "      <th>CreditCard_Spending_Aut_Debits</th>\n",
       "      <th>CreditCard_Revolving</th>\n",
       "      <th>CreditCard_Payment_Aut_Debit</th>\n",
       "      <th>CreditCard_Payment_External</th>\n",
       "      <th>CreditCard_Payment_Cash</th>\n",
       "      <th>CreditCard_Payment_Web</th>\n",
       "      <th>CreditCard_Payment_ATM</th>\n",
       "      <th>CreditCard_Payment_TAS</th>\n",
       "      <th>Investment_Numbers</th>\n",
       "    </tr>\n",
       "  </thead>\n",
       "  <tbody>\n",
       "    <tr>\n",
       "      <th>count</th>\n",
       "      <td>238615.000000</td>\n",
       "      <td>2.386150e+05</td>\n",
       "      <td>2.386150e+05</td>\n",
       "      <td>2.386100e+05</td>\n",
       "      <td>238615.000000</td>\n",
       "      <td>238615.000000</td>\n",
       "      <td>238615.000000</td>\n",
       "      <td>238615.000000</td>\n",
       "      <td>238615.000000</td>\n",
       "      <td>238615.000000</td>\n",
       "      <td>...</td>\n",
       "      <td>238615.000000</td>\n",
       "      <td>238615.000000</td>\n",
       "      <td>238615.000000</td>\n",
       "      <td>238615.000000</td>\n",
       "      <td>238615.000000</td>\n",
       "      <td>238615.000000</td>\n",
       "      <td>238615.000000</td>\n",
       "      <td>238615.000000</td>\n",
       "      <td>238615.000000</td>\n",
       "      <td>238615.000000</td>\n",
       "    </tr>\n",
       "    <tr>\n",
       "      <th>mean</th>\n",
       "      <td>0.260906</td>\n",
       "      <td>4.391185e+03</td>\n",
       "      <td>4.306811e+03</td>\n",
       "      <td>3.888000e+03</td>\n",
       "      <td>2.315089</td>\n",
       "      <td>1.158988</td>\n",
       "      <td>1.710932</td>\n",
       "      <td>0.136119</td>\n",
       "      <td>0.319720</td>\n",
       "      <td>0.511049</td>\n",
       "      <td>...</td>\n",
       "      <td>5.803572</td>\n",
       "      <td>1069.035621</td>\n",
       "      <td>2097.477104</td>\n",
       "      <td>0.204719</td>\n",
       "      <td>0.173983</td>\n",
       "      <td>0.027618</td>\n",
       "      <td>0.128374</td>\n",
       "      <td>0.046728</td>\n",
       "      <td>0.091763</td>\n",
       "      <td>0.066513</td>\n",
       "    </tr>\n",
       "    <tr>\n",
       "      <th>std</th>\n",
       "      <td>0.439129</td>\n",
       "      <td>2.770754e+04</td>\n",
       "      <td>2.731014e+04</td>\n",
       "      <td>2.166111e+04</td>\n",
       "      <td>3.737385</td>\n",
       "      <td>1.765609</td>\n",
       "      <td>3.151713</td>\n",
       "      <td>0.543215</td>\n",
       "      <td>1.114251</td>\n",
       "      <td>2.131053</td>\n",
       "      <td>...</td>\n",
       "      <td>65.846575</td>\n",
       "      <td>2640.778926</td>\n",
       "      <td>7893.127181</td>\n",
       "      <td>0.492174</td>\n",
       "      <td>0.425741</td>\n",
       "      <td>0.174117</td>\n",
       "      <td>0.387458</td>\n",
       "      <td>0.247012</td>\n",
       "      <td>0.339117</td>\n",
       "      <td>0.427927</td>\n",
       "    </tr>\n",
       "    <tr>\n",
       "      <th>min</th>\n",
       "      <td>0.000000</td>\n",
       "      <td>0.000000e+00</td>\n",
       "      <td>0.000000e+00</td>\n",
       "      <td>-5.665900e+02</td>\n",
       "      <td>0.000000</td>\n",
       "      <td>0.000000</td>\n",
       "      <td>0.000000</td>\n",
       "      <td>0.000000</td>\n",
       "      <td>0.000000</td>\n",
       "      <td>0.000000</td>\n",
       "      <td>...</td>\n",
       "      <td>0.000000</td>\n",
       "      <td>-9476.360000</td>\n",
       "      <td>-249630.730000</td>\n",
       "      <td>0.000000</td>\n",
       "      <td>0.000000</td>\n",
       "      <td>0.000000</td>\n",
       "      <td>0.000000</td>\n",
       "      <td>0.000000</td>\n",
       "      <td>0.000000</td>\n",
       "      <td>0.000000</td>\n",
       "    </tr>\n",
       "    <tr>\n",
       "      <th>25%</th>\n",
       "      <td>0.000000</td>\n",
       "      <td>0.000000e+00</td>\n",
       "      <td>0.000000e+00</td>\n",
       "      <td>0.000000e+00</td>\n",
       "      <td>0.000000</td>\n",
       "      <td>0.000000</td>\n",
       "      <td>0.000000</td>\n",
       "      <td>0.000000</td>\n",
       "      <td>0.000000</td>\n",
       "      <td>0.000000</td>\n",
       "      <td>...</td>\n",
       "      <td>0.000000</td>\n",
       "      <td>0.000000</td>\n",
       "      <td>0.000000</td>\n",
       "      <td>0.000000</td>\n",
       "      <td>0.000000</td>\n",
       "      <td>0.000000</td>\n",
       "      <td>0.000000</td>\n",
       "      <td>0.000000</td>\n",
       "      <td>0.000000</td>\n",
       "      <td>0.000000</td>\n",
       "    </tr>\n",
       "    <tr>\n",
       "      <th>50%</th>\n",
       "      <td>0.000000</td>\n",
       "      <td>0.000000e+00</td>\n",
       "      <td>0.000000e+00</td>\n",
       "      <td>3.500000e-01</td>\n",
       "      <td>0.000000</td>\n",
       "      <td>0.000000</td>\n",
       "      <td>0.000000</td>\n",
       "      <td>0.000000</td>\n",
       "      <td>0.000000</td>\n",
       "      <td>0.000000</td>\n",
       "      <td>...</td>\n",
       "      <td>0.000000</td>\n",
       "      <td>0.000000</td>\n",
       "      <td>0.000000</td>\n",
       "      <td>0.000000</td>\n",
       "      <td>0.000000</td>\n",
       "      <td>0.000000</td>\n",
       "      <td>0.000000</td>\n",
       "      <td>0.000000</td>\n",
       "      <td>0.000000</td>\n",
       "      <td>0.000000</td>\n",
       "    </tr>\n",
       "    <tr>\n",
       "      <th>75%</th>\n",
       "      <td>1.000000</td>\n",
       "      <td>4.001750e+02</td>\n",
       "      <td>3.528150e+02</td>\n",
       "      <td>1.204130e+03</td>\n",
       "      <td>3.000000</td>\n",
       "      <td>2.000000</td>\n",
       "      <td>2.000000</td>\n",
       "      <td>0.000000</td>\n",
       "      <td>0.000000</td>\n",
       "      <td>0.000000</td>\n",
       "      <td>...</td>\n",
       "      <td>0.000000</td>\n",
       "      <td>850.000000</td>\n",
       "      <td>0.000000</td>\n",
       "      <td>0.000000</td>\n",
       "      <td>0.000000</td>\n",
       "      <td>0.000000</td>\n",
       "      <td>0.000000</td>\n",
       "      <td>0.000000</td>\n",
       "      <td>0.000000</td>\n",
       "      <td>0.000000</td>\n",
       "    </tr>\n",
       "    <tr>\n",
       "      <th>max</th>\n",
       "      <td>1.000000</td>\n",
       "      <td>2.693271e+06</td>\n",
       "      <td>2.410284e+06</td>\n",
       "      <td>1.771201e+06</td>\n",
       "      <td>41.000000</td>\n",
       "      <td>30.000000</td>\n",
       "      <td>36.000000</td>\n",
       "      <td>16.000000</td>\n",
       "      <td>117.000000</td>\n",
       "      <td>59.000000</td>\n",
       "      <td>...</td>\n",
       "      <td>4020.610000</td>\n",
       "      <td>89468.240000</td>\n",
       "      <td>249431.930000</td>\n",
       "      <td>7.000000</td>\n",
       "      <td>8.000000</td>\n",
       "      <td>6.000000</td>\n",
       "      <td>7.000000</td>\n",
       "      <td>8.000000</td>\n",
       "      <td>9.000000</td>\n",
       "      <td>28.000000</td>\n",
       "    </tr>\n",
       "  </tbody>\n",
       "</table>\n",
       "<p>8 rows × 50 columns</p>\n",
       "</div>"
      ],
      "text/plain": [
       "              Target  SavingAccount_Balance_FirstDate  \\\n",
       "count  238615.000000                     2.386150e+05   \n",
       "mean        0.260906                     4.391185e+03   \n",
       "std         0.439129                     2.770754e+04   \n",
       "min         0.000000                     0.000000e+00   \n",
       "25%         0.000000                     0.000000e+00   \n",
       "50%         0.000000                     0.000000e+00   \n",
       "75%         1.000000                     4.001750e+02   \n",
       "max         1.000000                     2.693271e+06   \n",
       "\n",
       "       SavingAccount_Balance_LastDate  SavingAccount_Balance_Average  \\\n",
       "count                    2.386150e+05                   2.386100e+05   \n",
       "mean                     4.306811e+03                   3.888000e+03   \n",
       "std                      2.731014e+04                   2.166111e+04   \n",
       "min                      0.000000e+00                  -5.665900e+02   \n",
       "25%                      0.000000e+00                   0.000000e+00   \n",
       "50%                      0.000000e+00                   3.500000e-01   \n",
       "75%                      3.528150e+02                   1.204130e+03   \n",
       "max                      2.410284e+06                   1.771201e+06   \n",
       "\n",
       "       SavingAccount_Days_with_use  SavingAccount_Days_with_Credits  \\\n",
       "count                238615.000000                    238615.000000   \n",
       "mean                      2.315089                         1.158988   \n",
       "std                       3.737385                         1.765609   \n",
       "min                       0.000000                         0.000000   \n",
       "25%                       0.000000                         0.000000   \n",
       "50%                       0.000000                         0.000000   \n",
       "75%                       3.000000                         2.000000   \n",
       "max                      41.000000                        30.000000   \n",
       "\n",
       "       SavingAccount_Days_with_Debits  \\\n",
       "count                   238615.000000   \n",
       "mean                         1.710932   \n",
       "std                          3.151713   \n",
       "min                          0.000000   \n",
       "25%                          0.000000   \n",
       "50%                          0.000000   \n",
       "75%                          2.000000   \n",
       "max                         36.000000   \n",
       "\n",
       "       SavingAccount_Salary_Payment_Transactions  \\\n",
       "count                              238615.000000   \n",
       "mean                                    0.136119   \n",
       "std                                     0.543215   \n",
       "min                                     0.000000   \n",
       "25%                                     0.000000   \n",
       "50%                                     0.000000   \n",
       "75%                                     0.000000   \n",
       "max                                    16.000000   \n",
       "\n",
       "       SavingAccount_Transfer_In_Transactions  \\\n",
       "count                           238615.000000   \n",
       "mean                                 0.319720   \n",
       "std                                  1.114251   \n",
       "min                                  0.000000   \n",
       "25%                                  0.000000   \n",
       "50%                                  0.000000   \n",
       "75%                                  0.000000   \n",
       "max                                117.000000   \n",
       "\n",
       "       SavingAccount_ATM_Extraction_Transactions  ...  \\\n",
       "count                              238615.000000  ...   \n",
       "mean                                    0.511049  ...   \n",
       "std                                     2.131053  ...   \n",
       "min                                     0.000000  ...   \n",
       "25%                                     0.000000  ...   \n",
       "50%                                     0.000000  ...   \n",
       "75%                                     0.000000  ...   \n",
       "max                                    59.000000  ...   \n",
       "\n",
       "       CreditCard_Spending_CrossBoarder  CreditCard_Spending_Aut_Debits  \\\n",
       "count                     238615.000000                   238615.000000   \n",
       "mean                           5.803572                     1069.035621   \n",
       "std                           65.846575                     2640.778926   \n",
       "min                            0.000000                    -9476.360000   \n",
       "25%                            0.000000                        0.000000   \n",
       "50%                            0.000000                        0.000000   \n",
       "75%                            0.000000                      850.000000   \n",
       "max                         4020.610000                    89468.240000   \n",
       "\n",
       "       CreditCard_Revolving  CreditCard_Payment_Aut_Debit  \\\n",
       "count         238615.000000                 238615.000000   \n",
       "mean            2097.477104                      0.204719   \n",
       "std             7893.127181                      0.492174   \n",
       "min          -249630.730000                      0.000000   \n",
       "25%                0.000000                      0.000000   \n",
       "50%                0.000000                      0.000000   \n",
       "75%                0.000000                      0.000000   \n",
       "max           249431.930000                      7.000000   \n",
       "\n",
       "       CreditCard_Payment_External  CreditCard_Payment_Cash  \\\n",
       "count                238615.000000            238615.000000   \n",
       "mean                      0.173983                 0.027618   \n",
       "std                       0.425741                 0.174117   \n",
       "min                       0.000000                 0.000000   \n",
       "25%                       0.000000                 0.000000   \n",
       "50%                       0.000000                 0.000000   \n",
       "75%                       0.000000                 0.000000   \n",
       "max                       8.000000                 6.000000   \n",
       "\n",
       "       CreditCard_Payment_Web  CreditCard_Payment_ATM  CreditCard_Payment_TAS  \\\n",
       "count           238615.000000           238615.000000           238615.000000   \n",
       "mean                 0.128374                0.046728                0.091763   \n",
       "std                  0.387458                0.247012                0.339117   \n",
       "min                  0.000000                0.000000                0.000000   \n",
       "25%                  0.000000                0.000000                0.000000   \n",
       "50%                  0.000000                0.000000                0.000000   \n",
       "75%                  0.000000                0.000000                0.000000   \n",
       "max                  7.000000                8.000000                9.000000   \n",
       "\n",
       "       Investment_Numbers  \n",
       "count       238615.000000  \n",
       "mean             0.066513  \n",
       "std              0.427927  \n",
       "min              0.000000  \n",
       "25%              0.000000  \n",
       "50%              0.000000  \n",
       "75%              0.000000  \n",
       "max             28.000000  \n",
       "\n",
       "[8 rows x 50 columns]"
      ]
     },
     "execution_count": 43,
     "metadata": {},
     "output_type": "execute_result"
    }
   ],
   "source": [
    "data.describe()"
   ]
  },
  {
   "cell_type": "code",
   "execution_count": 44,
   "id": "56eb13ed",
   "metadata": {},
   "outputs": [
    {
     "data": {
      "text/html": [
       "<div>\n",
       "<style scoped>\n",
       "    .dataframe tbody tr th:only-of-type {\n",
       "        vertical-align: middle;\n",
       "    }\n",
       "\n",
       "    .dataframe tbody tr th {\n",
       "        vertical-align: top;\n",
       "    }\n",
       "\n",
       "    .dataframe thead th {\n",
       "        text-align: right;\n",
       "    }\n",
       "</style>\n",
       "<table border=\"1\" class=\"dataframe\">\n",
       "  <thead>\n",
       "    <tr style=\"text-align: right;\">\n",
       "      <th></th>\n",
       "      <th>client_id</th>\n",
       "      <th>Target</th>\n",
       "      <th>Month</th>\n",
       "      <th>First_product_dt</th>\n",
       "      <th>Last_product_dt</th>\n",
       "      <th>CreditCard_Premium</th>\n",
       "      <th>CreditCard_Active</th>\n",
       "      <th>CreditCard_CoBranding</th>\n",
       "      <th>Loan_Active</th>\n",
       "      <th>Mortgage_Active</th>\n",
       "      <th>...</th>\n",
       "      <th>CreditCard_Payment_External</th>\n",
       "      <th>CreditCard_Payment_Cash</th>\n",
       "      <th>CreditCard_Payment_Web</th>\n",
       "      <th>CreditCard_Payment_ATM</th>\n",
       "      <th>CreditCard_Payment_TAS</th>\n",
       "      <th>Investment_Numbers</th>\n",
       "      <th>Mobile</th>\n",
       "      <th>Email</th>\n",
       "      <th>Region</th>\n",
       "      <th>CreditCard_Product</th>\n",
       "    </tr>\n",
       "  </thead>\n",
       "  <tbody>\n",
       "    <tr>\n",
       "      <th>count</th>\n",
       "      <td>238615.0</td>\n",
       "      <td>238615.000000</td>\n",
       "      <td>238615</td>\n",
       "      <td>238615</td>\n",
       "      <td>238615</td>\n",
       "      <td>238615</td>\n",
       "      <td>238615</td>\n",
       "      <td>238615</td>\n",
       "      <td>238615</td>\n",
       "      <td>238615</td>\n",
       "      <td>...</td>\n",
       "      <td>238615.000000</td>\n",
       "      <td>238615.000000</td>\n",
       "      <td>238615.000000</td>\n",
       "      <td>238615.000000</td>\n",
       "      <td>238615.000000</td>\n",
       "      <td>238615.000000</td>\n",
       "      <td>238615</td>\n",
       "      <td>238615</td>\n",
       "      <td>53080</td>\n",
       "      <td>36636</td>\n",
       "    </tr>\n",
       "    <tr>\n",
       "      <th>unique</th>\n",
       "      <td>27590.0</td>\n",
       "      <td>NaN</td>\n",
       "      <td>9</td>\n",
       "      <td>3795</td>\n",
       "      <td>3411</td>\n",
       "      <td>2</td>\n",
       "      <td>2</td>\n",
       "      <td>2</td>\n",
       "      <td>2</td>\n",
       "      <td>2</td>\n",
       "      <td>...</td>\n",
       "      <td>NaN</td>\n",
       "      <td>NaN</td>\n",
       "      <td>NaN</td>\n",
       "      <td>NaN</td>\n",
       "      <td>NaN</td>\n",
       "      <td>NaN</td>\n",
       "      <td>2</td>\n",
       "      <td>2</td>\n",
       "      <td>7</td>\n",
       "      <td>7</td>\n",
       "    </tr>\n",
       "    <tr>\n",
       "      <th>top</th>\n",
       "      <td>5856970.0</td>\n",
       "      <td>NaN</td>\n",
       "      <td>2019-04-01</td>\n",
       "      <td>2004-07-30</td>\n",
       "      <td>2018-11-28</td>\n",
       "      <td>No</td>\n",
       "      <td>Yes</td>\n",
       "      <td>No</td>\n",
       "      <td>No</td>\n",
       "      <td>No</td>\n",
       "      <td>...</td>\n",
       "      <td>NaN</td>\n",
       "      <td>NaN</td>\n",
       "      <td>NaN</td>\n",
       "      <td>NaN</td>\n",
       "      <td>NaN</td>\n",
       "      <td>NaN</td>\n",
       "      <td>Yes</td>\n",
       "      <td>Yes</td>\n",
       "      <td>BUENOS AIRES</td>\n",
       "      <td>J55660104XX012</td>\n",
       "    </tr>\n",
       "    <tr>\n",
       "      <th>freq</th>\n",
       "      <td>9.0</td>\n",
       "      <td>NaN</td>\n",
       "      <td>26547</td>\n",
       "      <td>1964</td>\n",
       "      <td>8402</td>\n",
       "      <td>213965</td>\n",
       "      <td>164057</td>\n",
       "      <td>213049</td>\n",
       "      <td>209807</td>\n",
       "      <td>233852</td>\n",
       "      <td>...</td>\n",
       "      <td>NaN</td>\n",
       "      <td>NaN</td>\n",
       "      <td>NaN</td>\n",
       "      <td>NaN</td>\n",
       "      <td>NaN</td>\n",
       "      <td>NaN</td>\n",
       "      <td>211029</td>\n",
       "      <td>172053</td>\n",
       "      <td>14293</td>\n",
       "      <td>17298</td>\n",
       "    </tr>\n",
       "    <tr>\n",
       "      <th>mean</th>\n",
       "      <td>NaN</td>\n",
       "      <td>0.260906</td>\n",
       "      <td>NaN</td>\n",
       "      <td>NaN</td>\n",
       "      <td>NaN</td>\n",
       "      <td>NaN</td>\n",
       "      <td>NaN</td>\n",
       "      <td>NaN</td>\n",
       "      <td>NaN</td>\n",
       "      <td>NaN</td>\n",
       "      <td>...</td>\n",
       "      <td>0.173983</td>\n",
       "      <td>0.027618</td>\n",
       "      <td>0.128374</td>\n",
       "      <td>0.046728</td>\n",
       "      <td>0.091763</td>\n",
       "      <td>0.066513</td>\n",
       "      <td>NaN</td>\n",
       "      <td>NaN</td>\n",
       "      <td>NaN</td>\n",
       "      <td>NaN</td>\n",
       "    </tr>\n",
       "    <tr>\n",
       "      <th>std</th>\n",
       "      <td>NaN</td>\n",
       "      <td>0.439129</td>\n",
       "      <td>NaN</td>\n",
       "      <td>NaN</td>\n",
       "      <td>NaN</td>\n",
       "      <td>NaN</td>\n",
       "      <td>NaN</td>\n",
       "      <td>NaN</td>\n",
       "      <td>NaN</td>\n",
       "      <td>NaN</td>\n",
       "      <td>...</td>\n",
       "      <td>0.425741</td>\n",
       "      <td>0.174117</td>\n",
       "      <td>0.387458</td>\n",
       "      <td>0.247012</td>\n",
       "      <td>0.339117</td>\n",
       "      <td>0.427927</td>\n",
       "      <td>NaN</td>\n",
       "      <td>NaN</td>\n",
       "      <td>NaN</td>\n",
       "      <td>NaN</td>\n",
       "    </tr>\n",
       "    <tr>\n",
       "      <th>min</th>\n",
       "      <td>NaN</td>\n",
       "      <td>0.000000</td>\n",
       "      <td>NaN</td>\n",
       "      <td>NaN</td>\n",
       "      <td>NaN</td>\n",
       "      <td>NaN</td>\n",
       "      <td>NaN</td>\n",
       "      <td>NaN</td>\n",
       "      <td>NaN</td>\n",
       "      <td>NaN</td>\n",
       "      <td>...</td>\n",
       "      <td>0.000000</td>\n",
       "      <td>0.000000</td>\n",
       "      <td>0.000000</td>\n",
       "      <td>0.000000</td>\n",
       "      <td>0.000000</td>\n",
       "      <td>0.000000</td>\n",
       "      <td>NaN</td>\n",
       "      <td>NaN</td>\n",
       "      <td>NaN</td>\n",
       "      <td>NaN</td>\n",
       "    </tr>\n",
       "    <tr>\n",
       "      <th>25%</th>\n",
       "      <td>NaN</td>\n",
       "      <td>0.000000</td>\n",
       "      <td>NaN</td>\n",
       "      <td>NaN</td>\n",
       "      <td>NaN</td>\n",
       "      <td>NaN</td>\n",
       "      <td>NaN</td>\n",
       "      <td>NaN</td>\n",
       "      <td>NaN</td>\n",
       "      <td>NaN</td>\n",
       "      <td>...</td>\n",
       "      <td>0.000000</td>\n",
       "      <td>0.000000</td>\n",
       "      <td>0.000000</td>\n",
       "      <td>0.000000</td>\n",
       "      <td>0.000000</td>\n",
       "      <td>0.000000</td>\n",
       "      <td>NaN</td>\n",
       "      <td>NaN</td>\n",
       "      <td>NaN</td>\n",
       "      <td>NaN</td>\n",
       "    </tr>\n",
       "    <tr>\n",
       "      <th>50%</th>\n",
       "      <td>NaN</td>\n",
       "      <td>0.000000</td>\n",
       "      <td>NaN</td>\n",
       "      <td>NaN</td>\n",
       "      <td>NaN</td>\n",
       "      <td>NaN</td>\n",
       "      <td>NaN</td>\n",
       "      <td>NaN</td>\n",
       "      <td>NaN</td>\n",
       "      <td>NaN</td>\n",
       "      <td>...</td>\n",
       "      <td>0.000000</td>\n",
       "      <td>0.000000</td>\n",
       "      <td>0.000000</td>\n",
       "      <td>0.000000</td>\n",
       "      <td>0.000000</td>\n",
       "      <td>0.000000</td>\n",
       "      <td>NaN</td>\n",
       "      <td>NaN</td>\n",
       "      <td>NaN</td>\n",
       "      <td>NaN</td>\n",
       "    </tr>\n",
       "    <tr>\n",
       "      <th>75%</th>\n",
       "      <td>NaN</td>\n",
       "      <td>1.000000</td>\n",
       "      <td>NaN</td>\n",
       "      <td>NaN</td>\n",
       "      <td>NaN</td>\n",
       "      <td>NaN</td>\n",
       "      <td>NaN</td>\n",
       "      <td>NaN</td>\n",
       "      <td>NaN</td>\n",
       "      <td>NaN</td>\n",
       "      <td>...</td>\n",
       "      <td>0.000000</td>\n",
       "      <td>0.000000</td>\n",
       "      <td>0.000000</td>\n",
       "      <td>0.000000</td>\n",
       "      <td>0.000000</td>\n",
       "      <td>0.000000</td>\n",
       "      <td>NaN</td>\n",
       "      <td>NaN</td>\n",
       "      <td>NaN</td>\n",
       "      <td>NaN</td>\n",
       "    </tr>\n",
       "    <tr>\n",
       "      <th>max</th>\n",
       "      <td>NaN</td>\n",
       "      <td>1.000000</td>\n",
       "      <td>NaN</td>\n",
       "      <td>NaN</td>\n",
       "      <td>NaN</td>\n",
       "      <td>NaN</td>\n",
       "      <td>NaN</td>\n",
       "      <td>NaN</td>\n",
       "      <td>NaN</td>\n",
       "      <td>NaN</td>\n",
       "      <td>...</td>\n",
       "      <td>8.000000</td>\n",
       "      <td>6.000000</td>\n",
       "      <td>7.000000</td>\n",
       "      <td>8.000000</td>\n",
       "      <td>9.000000</td>\n",
       "      <td>28.000000</td>\n",
       "      <td>NaN</td>\n",
       "      <td>NaN</td>\n",
       "      <td>NaN</td>\n",
       "      <td>NaN</td>\n",
       "    </tr>\n",
       "  </tbody>\n",
       "</table>\n",
       "<p>11 rows × 77 columns</p>\n",
       "</div>"
      ],
      "text/plain": [
       "        client_id         Target       Month First_product_dt Last_product_dt  \\\n",
       "count    238615.0  238615.000000      238615           238615          238615   \n",
       "unique    27590.0            NaN           9             3795            3411   \n",
       "top     5856970.0            NaN  2019-04-01       2004-07-30      2018-11-28   \n",
       "freq          9.0            NaN       26547             1964            8402   \n",
       "mean          NaN       0.260906         NaN              NaN             NaN   \n",
       "std           NaN       0.439129         NaN              NaN             NaN   \n",
       "min           NaN       0.000000         NaN              NaN             NaN   \n",
       "25%           NaN       0.000000         NaN              NaN             NaN   \n",
       "50%           NaN       0.000000         NaN              NaN             NaN   \n",
       "75%           NaN       1.000000         NaN              NaN             NaN   \n",
       "max           NaN       1.000000         NaN              NaN             NaN   \n",
       "\n",
       "       CreditCard_Premium CreditCard_Active CreditCard_CoBranding Loan_Active  \\\n",
       "count              238615            238615                238615      238615   \n",
       "unique                  2                 2                     2           2   \n",
       "top                    No               Yes                    No          No   \n",
       "freq               213965            164057                213049      209807   \n",
       "mean                  NaN               NaN                   NaN         NaN   \n",
       "std                   NaN               NaN                   NaN         NaN   \n",
       "min                   NaN               NaN                   NaN         NaN   \n",
       "25%                   NaN               NaN                   NaN         NaN   \n",
       "50%                   NaN               NaN                   NaN         NaN   \n",
       "75%                   NaN               NaN                   NaN         NaN   \n",
       "max                   NaN               NaN                   NaN         NaN   \n",
       "\n",
       "       Mortgage_Active  ... CreditCard_Payment_External  \\\n",
       "count           238615  ...               238615.000000   \n",
       "unique               2  ...                         NaN   \n",
       "top                 No  ...                         NaN   \n",
       "freq            233852  ...                         NaN   \n",
       "mean               NaN  ...                    0.173983   \n",
       "std                NaN  ...                    0.425741   \n",
       "min                NaN  ...                    0.000000   \n",
       "25%                NaN  ...                    0.000000   \n",
       "50%                NaN  ...                    0.000000   \n",
       "75%                NaN  ...                    0.000000   \n",
       "max                NaN  ...                    8.000000   \n",
       "\n",
       "       CreditCard_Payment_Cash CreditCard_Payment_Web CreditCard_Payment_ATM  \\\n",
       "count            238615.000000          238615.000000          238615.000000   \n",
       "unique                     NaN                    NaN                    NaN   \n",
       "top                        NaN                    NaN                    NaN   \n",
       "freq                       NaN                    NaN                    NaN   \n",
       "mean                  0.027618               0.128374               0.046728   \n",
       "std                   0.174117               0.387458               0.247012   \n",
       "min                   0.000000               0.000000               0.000000   \n",
       "25%                   0.000000               0.000000               0.000000   \n",
       "50%                   0.000000               0.000000               0.000000   \n",
       "75%                   0.000000               0.000000               0.000000   \n",
       "max                   6.000000               7.000000               8.000000   \n",
       "\n",
       "       CreditCard_Payment_TAS Investment_Numbers  Mobile   Email  \\\n",
       "count           238615.000000      238615.000000  238615  238615   \n",
       "unique                    NaN                NaN       2       2   \n",
       "top                       NaN                NaN     Yes     Yes   \n",
       "freq                      NaN                NaN  211029  172053   \n",
       "mean                 0.091763           0.066513     NaN     NaN   \n",
       "std                  0.339117           0.427927     NaN     NaN   \n",
       "min                  0.000000           0.000000     NaN     NaN   \n",
       "25%                  0.000000           0.000000     NaN     NaN   \n",
       "50%                  0.000000           0.000000     NaN     NaN   \n",
       "75%                  0.000000           0.000000     NaN     NaN   \n",
       "max                  9.000000          28.000000     NaN     NaN   \n",
       "\n",
       "              Region CreditCard_Product  \n",
       "count          53080              36636  \n",
       "unique             7                  7  \n",
       "top     BUENOS AIRES     J55660104XX012  \n",
       "freq           14293              17298  \n",
       "mean             NaN                NaN  \n",
       "std              NaN                NaN  \n",
       "min              NaN                NaN  \n",
       "25%              NaN                NaN  \n",
       "50%              NaN                NaN  \n",
       "75%              NaN                NaN  \n",
       "max              NaN                NaN  \n",
       "\n",
       "[11 rows x 77 columns]"
      ]
     },
     "execution_count": 44,
     "metadata": {},
     "output_type": "execute_result"
    }
   ],
   "source": [
    "data.describe(include='all')"
   ]
  },
  {
   "cell_type": "code",
   "execution_count": 45,
   "id": "614e32a8",
   "metadata": {},
   "outputs": [
    {
     "ename": "TypeError",
     "evalue": "'>=' not supported between instances of 'str' and 'int'",
     "output_type": "error",
     "traceback": [
      "\u001b[0;31m---------------------------------------------------------------------------\u001b[0m",
      "\u001b[0;31mTypeError\u001b[0m                                 Traceback (most recent call last)",
      "Cell \u001b[0;32mIn[45], line 1\u001b[0m\n\u001b[0;32m----> 1\u001b[0m data_months \u001b[39m=\u001b[39m data[data\u001b[39m.\u001b[39;49mMonth\u001b[39m.\u001b[39;49mbetween(\u001b[39m10\u001b[39;49m, \u001b[39m20\u001b[39;49m)]\n",
      "File \u001b[0;32m~/workspace/virtualenvs/machine_learning-UIi7gfOb/lib/python3.11/site-packages/pandas/core/series.py:5430\u001b[0m, in \u001b[0;36mSeries.between\u001b[0;34m(self, left, right, inclusive)\u001b[0m\n\u001b[1;32m   5362\u001b[0m \u001b[39m\u001b[39m\u001b[39m\"\"\"\u001b[39;00m\n\u001b[1;32m   5363\u001b[0m \u001b[39mReturn boolean Series equivalent to left <= series <= right.\u001b[39;00m\n\u001b[1;32m   5364\u001b[0m \n\u001b[0;32m   (...)\u001b[0m\n\u001b[1;32m   5427\u001b[0m \u001b[39mdtype: bool\u001b[39;00m\n\u001b[1;32m   5428\u001b[0m \u001b[39m\"\"\"\u001b[39;00m\n\u001b[1;32m   5429\u001b[0m \u001b[39mif\u001b[39;00m inclusive \u001b[39m==\u001b[39m \u001b[39m\"\u001b[39m\u001b[39mboth\u001b[39m\u001b[39m\"\u001b[39m:\n\u001b[0;32m-> 5430\u001b[0m     lmask \u001b[39m=\u001b[39m \u001b[39mself\u001b[39;49m \u001b[39m>\u001b[39;49m\u001b[39m=\u001b[39;49m left\n\u001b[1;32m   5431\u001b[0m     rmask \u001b[39m=\u001b[39m \u001b[39mself\u001b[39m \u001b[39m<\u001b[39m\u001b[39m=\u001b[39m right\n\u001b[1;32m   5432\u001b[0m \u001b[39melif\u001b[39;00m inclusive \u001b[39m==\u001b[39m \u001b[39m\"\u001b[39m\u001b[39mleft\u001b[39m\u001b[39m\"\u001b[39m:\n",
      "File \u001b[0;32m~/workspace/virtualenvs/machine_learning-UIi7gfOb/lib/python3.11/site-packages/pandas/core/ops/common.py:76\u001b[0m, in \u001b[0;36m_unpack_zerodim_and_defer.<locals>.new_method\u001b[0;34m(self, other)\u001b[0m\n\u001b[1;32m     72\u001b[0m             \u001b[39mreturn\u001b[39;00m \u001b[39mNotImplemented\u001b[39m\n\u001b[1;32m     74\u001b[0m other \u001b[39m=\u001b[39m item_from_zerodim(other)\n\u001b[0;32m---> 76\u001b[0m \u001b[39mreturn\u001b[39;00m method(\u001b[39mself\u001b[39;49m, other)\n",
      "File \u001b[0;32m~/workspace/virtualenvs/machine_learning-UIi7gfOb/lib/python3.11/site-packages/pandas/core/arraylike.py:60\u001b[0m, in \u001b[0;36mOpsMixin.__ge__\u001b[0;34m(self, other)\u001b[0m\n\u001b[1;32m     58\u001b[0m \u001b[39m@unpack_zerodim_and_defer\u001b[39m(\u001b[39m\"\u001b[39m\u001b[39m__ge__\u001b[39m\u001b[39m\"\u001b[39m)\n\u001b[1;32m     59\u001b[0m \u001b[39mdef\u001b[39;00m \u001b[39m__ge__\u001b[39m(\u001b[39mself\u001b[39m, other):\n\u001b[0;32m---> 60\u001b[0m     \u001b[39mreturn\u001b[39;00m \u001b[39mself\u001b[39;49m\u001b[39m.\u001b[39;49m_cmp_method(other, operator\u001b[39m.\u001b[39;49mge)\n",
      "File \u001b[0;32m~/workspace/virtualenvs/machine_learning-UIi7gfOb/lib/python3.11/site-packages/pandas/core/series.py:5804\u001b[0m, in \u001b[0;36mSeries._cmp_method\u001b[0;34m(self, other, op)\u001b[0m\n\u001b[1;32m   5801\u001b[0m lvalues \u001b[39m=\u001b[39m \u001b[39mself\u001b[39m\u001b[39m.\u001b[39m_values\n\u001b[1;32m   5802\u001b[0m rvalues \u001b[39m=\u001b[39m extract_array(other, extract_numpy\u001b[39m=\u001b[39m\u001b[39mTrue\u001b[39;00m, extract_range\u001b[39m=\u001b[39m\u001b[39mTrue\u001b[39;00m)\n\u001b[0;32m-> 5804\u001b[0m res_values \u001b[39m=\u001b[39m ops\u001b[39m.\u001b[39;49mcomparison_op(lvalues, rvalues, op)\n\u001b[1;32m   5806\u001b[0m \u001b[39mreturn\u001b[39;00m \u001b[39mself\u001b[39m\u001b[39m.\u001b[39m_construct_result(res_values, name\u001b[39m=\u001b[39mres_name)\n",
      "File \u001b[0;32m~/workspace/virtualenvs/machine_learning-UIi7gfOb/lib/python3.11/site-packages/pandas/core/ops/array_ops.py:346\u001b[0m, in \u001b[0;36mcomparison_op\u001b[0;34m(left, right, op)\u001b[0m\n\u001b[1;32m    343\u001b[0m     \u001b[39mreturn\u001b[39;00m invalid_comparison(lvalues, rvalues, op)\n\u001b[1;32m    345\u001b[0m \u001b[39melif\u001b[39;00m lvalues\u001b[39m.\u001b[39mdtype \u001b[39m==\u001b[39m \u001b[39mobject\u001b[39m \u001b[39mor\u001b[39;00m \u001b[39misinstance\u001b[39m(rvalues, \u001b[39mstr\u001b[39m):\n\u001b[0;32m--> 346\u001b[0m     res_values \u001b[39m=\u001b[39m comp_method_OBJECT_ARRAY(op, lvalues, rvalues)\n\u001b[1;32m    348\u001b[0m \u001b[39melse\u001b[39;00m:\n\u001b[1;32m    349\u001b[0m     res_values \u001b[39m=\u001b[39m _na_arithmetic_op(lvalues, rvalues, op, is_cmp\u001b[39m=\u001b[39m\u001b[39mTrue\u001b[39;00m)\n",
      "File \u001b[0;32m~/workspace/virtualenvs/machine_learning-UIi7gfOb/lib/python3.11/site-packages/pandas/core/ops/array_ops.py:131\u001b[0m, in \u001b[0;36mcomp_method_OBJECT_ARRAY\u001b[0;34m(op, x, y)\u001b[0m\n\u001b[1;32m    129\u001b[0m     result \u001b[39m=\u001b[39m libops\u001b[39m.\u001b[39mvec_compare(x\u001b[39m.\u001b[39mravel(), y\u001b[39m.\u001b[39mravel(), op)\n\u001b[1;32m    130\u001b[0m \u001b[39melse\u001b[39;00m:\n\u001b[0;32m--> 131\u001b[0m     result \u001b[39m=\u001b[39m libops\u001b[39m.\u001b[39;49mscalar_compare(x\u001b[39m.\u001b[39;49mravel(), y, op)\n\u001b[1;32m    132\u001b[0m \u001b[39mreturn\u001b[39;00m result\u001b[39m.\u001b[39mreshape(x\u001b[39m.\u001b[39mshape)\n",
      "File \u001b[0;32mops.pyx:107\u001b[0m, in \u001b[0;36mpandas._libs.ops.scalar_compare\u001b[0;34m()\u001b[0m\n",
      "\u001b[0;31mTypeError\u001b[0m: '>=' not supported between instances of 'str' and 'int'"
     ]
    }
   ],
   "source": [
    "data_months = data[data.Month.between(10, 20)]"
   ]
  },
  {
   "cell_type": "code",
   "execution_count": 46,
   "id": "c7d4bde5",
   "metadata": {},
   "outputs": [],
   "source": [
    "data_months = data[data.Month.isin(['2019-04-01', '2019-03-01'])]"
   ]
  },
  {
   "cell_type": "code",
   "execution_count": 47,
   "id": "10bff74f",
   "metadata": {},
   "outputs": [
    {
     "data": {
      "text/plain": [
       "Month\n",
       "2019-04-01    26547\n",
       "2019-03-01    26547\n",
       "Name: count, dtype: int64"
      ]
     },
     "execution_count": 47,
     "metadata": {},
     "output_type": "execute_result"
    }
   ],
   "source": [
    "data_months.Month.value_counts()"
   ]
  },
  {
   "cell_type": "code",
   "execution_count": 48,
   "id": "8ec54073",
   "metadata": {},
   "outputs": [
    {
     "data": {
      "text/html": [
       "<div>\n",
       "<style scoped>\n",
       "    .dataframe tbody tr th:only-of-type {\n",
       "        vertical-align: middle;\n",
       "    }\n",
       "\n",
       "    .dataframe tbody tr th {\n",
       "        vertical-align: top;\n",
       "    }\n",
       "\n",
       "    .dataframe thead th {\n",
       "        text-align: right;\n",
       "    }\n",
       "</style>\n",
       "<table border=\"1\" class=\"dataframe\">\n",
       "  <thead>\n",
       "    <tr style=\"text-align: right;\">\n",
       "      <th></th>\n",
       "      <th>Month</th>\n",
       "      <th>Target</th>\n",
       "      <th>count</th>\n",
       "    </tr>\n",
       "  </thead>\n",
       "  <tbody>\n",
       "    <tr>\n",
       "      <th>0</th>\n",
       "      <td>2019-03-01</td>\n",
       "      <td>0.0</td>\n",
       "      <td>19622</td>\n",
       "    </tr>\n",
       "    <tr>\n",
       "      <th>1</th>\n",
       "      <td>2019-04-01</td>\n",
       "      <td>0.0</td>\n",
       "      <td>19621</td>\n",
       "    </tr>\n",
       "    <tr>\n",
       "      <th>2</th>\n",
       "      <td>2019-04-01</td>\n",
       "      <td>1.0</td>\n",
       "      <td>6926</td>\n",
       "    </tr>\n",
       "    <tr>\n",
       "      <th>3</th>\n",
       "      <td>2019-03-01</td>\n",
       "      <td>1.0</td>\n",
       "      <td>6925</td>\n",
       "    </tr>\n",
       "  </tbody>\n",
       "</table>\n",
       "</div>"
      ],
      "text/plain": [
       "        Month  Target  count\n",
       "0  2019-03-01     0.0  19622\n",
       "1  2019-04-01     0.0  19621\n",
       "2  2019-04-01     1.0   6926\n",
       "3  2019-03-01     1.0   6925"
      ]
     },
     "execution_count": 48,
     "metadata": {},
     "output_type": "execute_result"
    }
   ],
   "source": [
    "data_months[['Month', 'Target']].value_counts().reset_index()"
   ]
  },
  {
   "cell_type": "code",
   "execution_count": 49,
   "id": "b3fd9400",
   "metadata": {},
   "outputs": [
    {
     "data": {
      "text/plain": [
       "Month       Target\n",
       "2019-03-01  0.0       19622\n",
       "            1.0        6925\n",
       "2019-04-01  0.0       19621\n",
       "            1.0        6926\n",
       "dtype: int64"
      ]
     },
     "execution_count": 49,
     "metadata": {},
     "output_type": "execute_result"
    }
   ],
   "source": [
    "data_months.groupby(['Month', 'Target']).size()"
   ]
  },
  {
   "cell_type": "code",
   "execution_count": 50,
   "id": "870b3f9a",
   "metadata": {},
   "outputs": [],
   "source": [
    "# max SavingAccount_Debits_Transactions in a month\n",
    "\n",
    "data_max = data_months.groupby(['Month', 'Target'])['SavingAccount_Debits_Transactions'].max()"
   ]
  },
  {
   "cell_type": "code",
   "execution_count": 51,
   "id": "fbaee247",
   "metadata": {},
   "outputs": [],
   "source": [
    "# min SavingAccount_Debits_Transactions in a month\n",
    "\n",
    "data_min = data_months.groupby(['Month', 'Target'])['SavingAccount_Debits_Transactions'].min()"
   ]
  },
  {
   "cell_type": "code",
   "execution_count": 52,
   "id": "b64dc24e",
   "metadata": {},
   "outputs": [
    {
     "name": "stderr",
     "output_type": "stream",
     "text": [
      "/tmp/ipykernel_540630/1431341791.py:3: FutureWarning: The provided callable <function sum at 0x7f47880dd440> is currently using SeriesGroupBy.sum. In a future version of pandas, the provided callable will be used directly. To keep current behavior pass 'sum' instead.\n",
      "  data_total = data_months.groupby(['Month', 'Target'])['SavingAccount_Debits_Transactions'].agg([np.sum, np.amax,np.min, np.mean, np.median, np.count_nonzero, 'nunique'])\n",
      "/tmp/ipykernel_540630/1431341791.py:3: FutureWarning: The provided callable <function min at 0x7f47880ddc60> is currently using SeriesGroupBy.min. In a future version of pandas, the provided callable will be used directly. To keep current behavior pass 'min' instead.\n",
      "  data_total = data_months.groupby(['Month', 'Target'])['SavingAccount_Debits_Transactions'].agg([np.sum, np.amax,np.min, np.mean, np.median, np.count_nonzero, 'nunique'])\n",
      "/tmp/ipykernel_540630/1431341791.py:3: FutureWarning: The provided callable <function mean at 0x7f47880de520> is currently using SeriesGroupBy.mean. In a future version of pandas, the provided callable will be used directly. To keep current behavior pass 'mean' instead.\n",
      "  data_total = data_months.groupby(['Month', 'Target'])['SavingAccount_Debits_Transactions'].agg([np.sum, np.amax,np.min, np.mean, np.median, np.count_nonzero, 'nunique'])\n",
      "/tmp/ipykernel_540630/1431341791.py:3: FutureWarning: The provided callable <function median at 0x7f4760f63a60> is currently using SeriesGroupBy.median. In a future version of pandas, the provided callable will be used directly. To keep current behavior pass 'median' instead.\n",
      "  data_total = data_months.groupby(['Month', 'Target'])['SavingAccount_Debits_Transactions'].agg([np.sum, np.amax,np.min, np.mean, np.median, np.count_nonzero, 'nunique'])\n"
     ]
    }
   ],
   "source": [
    "# max SavingAccount_Debits_Transactions in a month\n",
    "\n",
    "data_total = data_months.groupby(['Month', 'Target'])['SavingAccount_Debits_Transactions'].agg([np.sum, np.amax,np.min, np.mean, np.median, np.count_nonzero, 'nunique'])"
   ]
  },
  {
   "cell_type": "code",
   "execution_count": 53,
   "id": "213c58f6",
   "metadata": {},
   "outputs": [
    {
     "data": {
      "text/html": [
       "<div>\n",
       "<style scoped>\n",
       "    .dataframe tbody tr th:only-of-type {\n",
       "        vertical-align: middle;\n",
       "    }\n",
       "\n",
       "    .dataframe tbody tr th {\n",
       "        vertical-align: top;\n",
       "    }\n",
       "\n",
       "    .dataframe thead th {\n",
       "        text-align: right;\n",
       "    }\n",
       "</style>\n",
       "<table border=\"1\" class=\"dataframe\">\n",
       "  <thead>\n",
       "    <tr style=\"text-align: right;\">\n",
       "      <th></th>\n",
       "      <th></th>\n",
       "      <th>sum</th>\n",
       "      <th>amax</th>\n",
       "      <th>min</th>\n",
       "      <th>mean</th>\n",
       "      <th>median</th>\n",
       "      <th>count_nonzero</th>\n",
       "      <th>nunique</th>\n",
       "    </tr>\n",
       "    <tr>\n",
       "      <th>Month</th>\n",
       "      <th>Target</th>\n",
       "      <th></th>\n",
       "      <th></th>\n",
       "      <th></th>\n",
       "      <th></th>\n",
       "      <th></th>\n",
       "      <th></th>\n",
       "      <th></th>\n",
       "    </tr>\n",
       "  </thead>\n",
       "  <tbody>\n",
       "    <tr>\n",
       "      <th rowspan=\"2\" valign=\"top\">2019-03-01</th>\n",
       "      <th>0.0</th>\n",
       "      <td>39541.0</td>\n",
       "      <td>102.0</td>\n",
       "      <td>0.0</td>\n",
       "      <td>2.015136</td>\n",
       "      <td>0.0</td>\n",
       "      <td>7154</td>\n",
       "      <td>65</td>\n",
       "    </tr>\n",
       "    <tr>\n",
       "      <th>1.0</th>\n",
       "      <td>42688.0</td>\n",
       "      <td>105.0</td>\n",
       "      <td>0.0</td>\n",
       "      <td>6.164332</td>\n",
       "      <td>2.0</td>\n",
       "      <td>4456</td>\n",
       "      <td>79</td>\n",
       "    </tr>\n",
       "    <tr>\n",
       "      <th rowspan=\"2\" valign=\"top\">2019-04-01</th>\n",
       "      <th>0.0</th>\n",
       "      <td>41255.0</td>\n",
       "      <td>127.0</td>\n",
       "      <td>0.0</td>\n",
       "      <td>2.102594</td>\n",
       "      <td>0.0</td>\n",
       "      <td>7030</td>\n",
       "      <td>71</td>\n",
       "    </tr>\n",
       "    <tr>\n",
       "      <th>1.0</th>\n",
       "      <td>45259.0</td>\n",
       "      <td>121.0</td>\n",
       "      <td>0.0</td>\n",
       "      <td>6.534652</td>\n",
       "      <td>2.0</td>\n",
       "      <td>4489</td>\n",
       "      <td>84</td>\n",
       "    </tr>\n",
       "  </tbody>\n",
       "</table>\n",
       "</div>"
      ],
      "text/plain": [
       "                       sum   amax  min      mean  median  count_nonzero  \\\n",
       "Month      Target                                                         \n",
       "2019-03-01 0.0     39541.0  102.0  0.0  2.015136     0.0           7154   \n",
       "           1.0     42688.0  105.0  0.0  6.164332     2.0           4456   \n",
       "2019-04-01 0.0     41255.0  127.0  0.0  2.102594     0.0           7030   \n",
       "           1.0     45259.0  121.0  0.0  6.534652     2.0           4489   \n",
       "\n",
       "                   nunique  \n",
       "Month      Target           \n",
       "2019-03-01 0.0          65  \n",
       "           1.0          79  \n",
       "2019-04-01 0.0          71  \n",
       "           1.0          84  "
      ]
     },
     "execution_count": 53,
     "metadata": {},
     "output_type": "execute_result"
    }
   ],
   "source": [
    "data_total"
   ]
  },
  {
   "cell_type": "code",
   "execution_count": 54,
   "id": "7c3b400f",
   "metadata": {},
   "outputs": [
    {
     "data": {
      "text/plain": [
       "Index(['sum', 'amax', 'min', 'mean', 'median', 'count_nonzero', 'nunique'], dtype='object')"
      ]
     },
     "execution_count": 54,
     "metadata": {},
     "output_type": "execute_result"
    }
   ],
   "source": [
    "data_total.columns"
   ]
  },
  {
   "cell_type": "code",
   "execution_count": 55,
   "id": "bda87aad",
   "metadata": {},
   "outputs": [
    {
     "name": "stderr",
     "output_type": "stream",
     "text": [
      "/tmp/ipykernel_540630/842866185.py:4: FutureWarning: The provided callable <function sum at 0x7f47880dd440> is currently using SeriesGroupBy.sum. In a future version of pandas, the provided callable will be used directly. To keep current behavior pass 'sum' instead.\n",
      "  data_total2 = data_months.groupby(['Month', 'Target'])[var].agg([np.sum, np.amax,np.min, np.mean, np.median, np.count_nonzero, 'nunique'])\n",
      "/tmp/ipykernel_540630/842866185.py:4: FutureWarning: The provided callable <function min at 0x7f47880ddc60> is currently using SeriesGroupBy.min. In a future version of pandas, the provided callable will be used directly. To keep current behavior pass 'min' instead.\n",
      "  data_total2 = data_months.groupby(['Month', 'Target'])[var].agg([np.sum, np.amax,np.min, np.mean, np.median, np.count_nonzero, 'nunique'])\n",
      "/tmp/ipykernel_540630/842866185.py:4: FutureWarning: The provided callable <function mean at 0x7f47880de520> is currently using SeriesGroupBy.mean. In a future version of pandas, the provided callable will be used directly. To keep current behavior pass 'mean' instead.\n",
      "  data_total2 = data_months.groupby(['Month', 'Target'])[var].agg([np.sum, np.amax,np.min, np.mean, np.median, np.count_nonzero, 'nunique'])\n",
      "/tmp/ipykernel_540630/842866185.py:4: FutureWarning: The provided callable <function median at 0x7f4760f63a60> is currently using SeriesGroupBy.median. In a future version of pandas, the provided callable will be used directly. To keep current behavior pass 'median' instead.\n",
      "  data_total2 = data_months.groupby(['Month', 'Target'])[var].agg([np.sum, np.amax,np.min, np.mean, np.median, np.count_nonzero, 'nunique'])\n"
     ]
    },
    {
     "data": {
      "text/plain": [
       "Index(['sum', 'amax', 'min', 'mean', 'median', 'count_nonzero', 'nunique'], dtype='object')"
      ]
     },
     "execution_count": 55,
     "metadata": {},
     "output_type": "execute_result"
    }
   ],
   "source": [
    "# CreditCard_Payment_External\n",
    "\n",
    "var = 'CreditCard_Payment_External'\n",
    "data_total2 = data_months.groupby(['Month', 'Target'])[var].agg([np.sum, np.amax,np.min, np.mean, np.median, np.count_nonzero, 'nunique'])\n",
    "data_total2.columns"
   ]
  },
  {
   "cell_type": "code",
   "execution_count": 56,
   "id": "9653fe70",
   "metadata": {},
   "outputs": [],
   "source": [
    "columns = ['sum', 'amax', 'amin', 'mean', 'median', 'count_nonzero', 'nunique'];\n",
    "data_total2.columns = [f'{var}___{column}' for column in columns]\n",
    "\n",
    "var2 = var + '___'\n",
    "data_total2.columns = [var2 + 'sum', var2 + 'amax', var2 + 'amin', var2 + 'mean',\n",
    "                       var2 + 'median', var2 + 'count_nonzero', var2 + 'nunique']"
   ]
  },
  {
   "cell_type": "code",
   "execution_count": 57,
   "id": "ba5d0441",
   "metadata": {},
   "outputs": [
    {
     "data": {
      "text/plain": [
       "Index(['CreditCard_Payment_External___sum',\n",
       "       'CreditCard_Payment_External___amax',\n",
       "       'CreditCard_Payment_External___amin',\n",
       "       'CreditCard_Payment_External___mean',\n",
       "       'CreditCard_Payment_External___median',\n",
       "       'CreditCard_Payment_External___count_nonzero',\n",
       "       'CreditCard_Payment_External___nunique'],\n",
       "      dtype='object')"
      ]
     },
     "execution_count": 57,
     "metadata": {},
     "output_type": "execute_result"
    }
   ],
   "source": [
    "data_total2.columns"
   ]
  },
  {
   "cell_type": "code",
   "execution_count": 58,
   "id": "61dd7c5e",
   "metadata": {},
   "outputs": [
    {
     "name": "stdout",
     "output_type": "stream",
     "text": [
      "CreditCard_Payment_External 12 22\n",
      "CreditCard_Payment_External 12 22\n",
      "CreditCard_Payment_External 12 20\n",
      "CreditCard_Payment_External 12 20\n",
      "CreditCard_Payment_External 10 22\n",
      "CreditCard_Payment_External 10 20\n"
     ]
    },
    {
     "data": {
      "text/plain": [
       "'CreditCard_Payment_External'"
      ]
     },
     "execution_count": 58,
     "metadata": {},
     "output_type": "execute_result"
    }
   ],
   "source": [
    "\n",
    "# Esto es un procedure\n",
    "\n",
    "def function_stat(var):\n",
    "    \n",
    "    data_total2 = data_months.groupby(['Month', 'Target'])[var].agg([np.sum, np.amax,np.min, np.mean, np.median, np.count_nonzero, 'nunique'])\n",
    "    \n",
    "    var = var + '___'\n",
    "    data_total2.columns = [var + 'sum', var + 'amax', var + 'amin', var + 'mean',\n",
    "                       var + 'median', var + 'count_nonzero', var + 'nunique']\n",
    "    print(data_total2.columns)\n",
    "\n",
    "# Funciones con parametros opciones:\n",
    "def example1(var, a=10, b=20):\n",
    "    print(var, a, b);\n",
    "    return var\n",
    "\n",
    "example1(var, 12, 22)\n",
    "example1(var, a=12, b=22)\n",
    "example1(var, 12)\n",
    "example1(var, a=12)\n",
    "example1(var, b=22)\n",
    "example1(var)\n",
    "\n",
    "# Si queres ver otra formar mas avanzada busca sobre *args y **kwargs"
   ]
  },
  {
   "cell_type": "code",
   "execution_count": 59,
   "id": "7bc48900",
   "metadata": {},
   "outputs": [],
   "source": [
    "# esto es una funcion....\n",
    "\n",
    "def function_stat(var):\n",
    "    \n",
    "    data_total2 = data_months.groupby(['Month', 'Target'])[var].agg([np.sum, np.amax,np.min, np.mean, np.median, np.count_nonzero, 'nunique'])\n",
    "    \n",
    "    var = var + '___'\n",
    "    data_total2.columns = [var + 'sum', var + 'amax', var + 'amin', var + 'mean',\n",
    "                       var + 'median', var + 'count_nonzero', var + 'nunique']\n",
    "    print(data_total2.columns)\n",
    "    \n",
    "    return data_total2, data_total2.columns # por esto es una funcion"
   ]
  },
  {
   "cell_type": "code",
   "execution_count": 60,
   "id": "f9ae9e43",
   "metadata": {},
   "outputs": [
    {
     "name": "stdout",
     "output_type": "stream",
     "text": [
      "Index(['CreditCard_Payment_External___sum',\n",
      "       'CreditCard_Payment_External___amax',\n",
      "       'CreditCard_Payment_External___amin',\n",
      "       'CreditCard_Payment_External___mean',\n",
      "       'CreditCard_Payment_External___median',\n",
      "       'CreditCard_Payment_External___count_nonzero',\n",
      "       'CreditCard_Payment_External___nunique'],\n",
      "      dtype='object')\n",
      "                   CreditCard_Payment_External___sum  \\\n",
      "Month      Target                                      \n",
      "2019-03-01 0.0                                3481.0   \n",
      "           1.0                                 828.0   \n",
      "2019-04-01 0.0                                3192.0   \n",
      "           1.0                                 781.0   \n",
      "\n",
      "                   CreditCard_Payment_External___amax  \\\n",
      "Month      Target                                       \n",
      "2019-03-01 0.0                                    5.0   \n",
      "           1.0                                    7.0   \n",
      "2019-04-01 0.0                                    6.0   \n",
      "           1.0                                    8.0   \n",
      "\n",
      "                   CreditCard_Payment_External___amin  \\\n",
      "Month      Target                                       \n",
      "2019-03-01 0.0                                    0.0   \n",
      "           1.0                                    0.0   \n",
      "2019-04-01 0.0                                    0.0   \n",
      "           1.0                                    0.0   \n",
      "\n",
      "                   CreditCard_Payment_External___mean  \\\n",
      "Month      Target                                       \n",
      "2019-03-01 0.0                               0.177403   \n",
      "           1.0                               0.119567   \n",
      "2019-04-01 0.0                               0.162683   \n",
      "           1.0                               0.112763   \n",
      "\n",
      "                   CreditCard_Payment_External___median  \\\n",
      "Month      Target                                         \n",
      "2019-03-01 0.0                                      0.0   \n",
      "           1.0                                      0.0   \n",
      "2019-04-01 0.0                                      0.0   \n",
      "           1.0                                      0.0   \n",
      "\n",
      "                   CreditCard_Payment_External___count_nonzero  \\\n",
      "Month      Target                                                \n",
      "2019-03-01 0.0                                            3139   \n",
      "           1.0                                             713   \n",
      "2019-04-01 0.0                                            2985   \n",
      "           1.0                                             679   \n",
      "\n",
      "                   CreditCard_Payment_External___nunique  \n",
      "Month      Target                                         \n",
      "2019-03-01 0.0                                         6  \n",
      "           1.0                                         8  \n",
      "2019-04-01 0.0                                         6  \n",
      "           1.0                                         7  \n",
      "Index(['CreditCard_Payment_External___sum',\n",
      "       'CreditCard_Payment_External___amax',\n",
      "       'CreditCard_Payment_External___amin',\n",
      "       'CreditCard_Payment_External___mean',\n",
      "       'CreditCard_Payment_External___median',\n",
      "       'CreditCard_Payment_External___count_nonzero',\n",
      "       'CreditCard_Payment_External___nunique'],\n",
      "      dtype='object')\n"
     ]
    },
    {
     "name": "stderr",
     "output_type": "stream",
     "text": [
      "/tmp/ipykernel_540630/3806175189.py:5: FutureWarning: The provided callable <function sum at 0x7f47880dd440> is currently using SeriesGroupBy.sum. In a future version of pandas, the provided callable will be used directly. To keep current behavior pass 'sum' instead.\n",
      "  data_total2 = data_months.groupby(['Month', 'Target'])[var].agg([np.sum, np.amax,np.min, np.mean, np.median, np.count_nonzero, 'nunique'])\n",
      "/tmp/ipykernel_540630/3806175189.py:5: FutureWarning: The provided callable <function min at 0x7f47880ddc60> is currently using SeriesGroupBy.min. In a future version of pandas, the provided callable will be used directly. To keep current behavior pass 'min' instead.\n",
      "  data_total2 = data_months.groupby(['Month', 'Target'])[var].agg([np.sum, np.amax,np.min, np.mean, np.median, np.count_nonzero, 'nunique'])\n",
      "/tmp/ipykernel_540630/3806175189.py:5: FutureWarning: The provided callable <function mean at 0x7f47880de520> is currently using SeriesGroupBy.mean. In a future version of pandas, the provided callable will be used directly. To keep current behavior pass 'mean' instead.\n",
      "  data_total2 = data_months.groupby(['Month', 'Target'])[var].agg([np.sum, np.amax,np.min, np.mean, np.median, np.count_nonzero, 'nunique'])\n",
      "/tmp/ipykernel_540630/3806175189.py:5: FutureWarning: The provided callable <function median at 0x7f4760f63a60> is currently using SeriesGroupBy.median. In a future version of pandas, the provided callable will be used directly. To keep current behavior pass 'median' instead.\n",
      "  data_total2 = data_months.groupby(['Month', 'Target'])[var].agg([np.sum, np.amax,np.min, np.mean, np.median, np.count_nonzero, 'nunique'])\n"
     ]
    }
   ],
   "source": [
    "data3 , columnas3 = function_stat('CreditCard_Payment_External')\n",
    "print(data3)\n",
    "print(columnas3)\n"
   ]
  },
  {
   "cell_type": "code",
   "execution_count": 63,
   "id": "122f2bbf",
   "metadata": {},
   "outputs": [],
   "source": [
    "# esto es una funcion....\n",
    "\n",
    "def function_stat(var):\n",
    "    \n",
    "    data_total2 = data_months.groupby(['Month', 'Target'])[var].agg([np.sum, np.amax,np.min, np.mean, np.median, np.count_nonzero, 'nunique'])\n",
    "    \n",
    "    var = var + '___'\n",
    "    data_total2.columns = [var + 'sum', var + 'amax', var + 'amin', var + 'mean',\n",
    "                       var + 'median', var + 'count_nonzero', var + 'nunique']\n",
    "    print(data_total2.columns)\n",
    "    \n",
    "    return data_total2 # por esto es una funcion"
   ]
  },
  {
   "cell_type": "code",
   "execution_count": 64,
   "id": "eb8ea8a1",
   "metadata": {},
   "outputs": [
    {
     "name": "stdout",
     "output_type": "stream",
     "text": [
      "Index(['CreditCard_Payment_External___sum',\n",
      "       'CreditCard_Payment_External___amax',\n",
      "       'CreditCard_Payment_External___amin',\n",
      "       'CreditCard_Payment_External___mean',\n",
      "       'CreditCard_Payment_External___median',\n",
      "       'CreditCard_Payment_External___count_nonzero',\n",
      "       'CreditCard_Payment_External___nunique'],\n",
      "      dtype='object')\n"
     ]
    },
    {
     "name": "stderr",
     "output_type": "stream",
     "text": [
      "/tmp/ipykernel_540630/3111079813.py:5: FutureWarning: The provided callable <function sum at 0x7f47880dd440> is currently using SeriesGroupBy.sum. In a future version of pandas, the provided callable will be used directly. To keep current behavior pass 'sum' instead.\n",
      "  data_total2 = data_months.groupby(['Month', 'Target'])[var].agg([np.sum, np.amax,np.min, np.mean, np.median, np.count_nonzero, 'nunique'])\n",
      "/tmp/ipykernel_540630/3111079813.py:5: FutureWarning: The provided callable <function min at 0x7f47880ddc60> is currently using SeriesGroupBy.min. In a future version of pandas, the provided callable will be used directly. To keep current behavior pass 'min' instead.\n",
      "  data_total2 = data_months.groupby(['Month', 'Target'])[var].agg([np.sum, np.amax,np.min, np.mean, np.median, np.count_nonzero, 'nunique'])\n",
      "/tmp/ipykernel_540630/3111079813.py:5: FutureWarning: The provided callable <function mean at 0x7f47880de520> is currently using SeriesGroupBy.mean. In a future version of pandas, the provided callable will be used directly. To keep current behavior pass 'mean' instead.\n",
      "  data_total2 = data_months.groupby(['Month', 'Target'])[var].agg([np.sum, np.amax,np.min, np.mean, np.median, np.count_nonzero, 'nunique'])\n",
      "/tmp/ipykernel_540630/3111079813.py:5: FutureWarning: The provided callable <function median at 0x7f4760f63a60> is currently using SeriesGroupBy.median. In a future version of pandas, the provided callable will be used directly. To keep current behavior pass 'median' instead.\n",
      "  data_total2 = data_months.groupby(['Month', 'Target'])[var].agg([np.sum, np.amax,np.min, np.mean, np.median, np.count_nonzero, 'nunique'])\n"
     ]
    },
    {
     "data": {
      "text/html": [
       "<div>\n",
       "<style scoped>\n",
       "    .dataframe tbody tr th:only-of-type {\n",
       "        vertical-align: middle;\n",
       "    }\n",
       "\n",
       "    .dataframe tbody tr th {\n",
       "        vertical-align: top;\n",
       "    }\n",
       "\n",
       "    .dataframe thead th {\n",
       "        text-align: right;\n",
       "    }\n",
       "</style>\n",
       "<table border=\"1\" class=\"dataframe\">\n",
       "  <thead>\n",
       "    <tr style=\"text-align: right;\">\n",
       "      <th></th>\n",
       "      <th></th>\n",
       "      <th>CreditCard_Payment_External___sum</th>\n",
       "      <th>CreditCard_Payment_External___amax</th>\n",
       "      <th>CreditCard_Payment_External___amin</th>\n",
       "      <th>CreditCard_Payment_External___mean</th>\n",
       "      <th>CreditCard_Payment_External___median</th>\n",
       "      <th>CreditCard_Payment_External___count_nonzero</th>\n",
       "      <th>CreditCard_Payment_External___nunique</th>\n",
       "    </tr>\n",
       "    <tr>\n",
       "      <th>Month</th>\n",
       "      <th>Target</th>\n",
       "      <th></th>\n",
       "      <th></th>\n",
       "      <th></th>\n",
       "      <th></th>\n",
       "      <th></th>\n",
       "      <th></th>\n",
       "      <th></th>\n",
       "    </tr>\n",
       "  </thead>\n",
       "  <tbody>\n",
       "    <tr>\n",
       "      <th rowspan=\"2\" valign=\"top\">2019-03-01</th>\n",
       "      <th>0.0</th>\n",
       "      <td>3481.0</td>\n",
       "      <td>5.0</td>\n",
       "      <td>0.0</td>\n",
       "      <td>0.177403</td>\n",
       "      <td>0.0</td>\n",
       "      <td>3139</td>\n",
       "      <td>6</td>\n",
       "    </tr>\n",
       "    <tr>\n",
       "      <th>1.0</th>\n",
       "      <td>828.0</td>\n",
       "      <td>7.0</td>\n",
       "      <td>0.0</td>\n",
       "      <td>0.119567</td>\n",
       "      <td>0.0</td>\n",
       "      <td>713</td>\n",
       "      <td>8</td>\n",
       "    </tr>\n",
       "    <tr>\n",
       "      <th rowspan=\"2\" valign=\"top\">2019-04-01</th>\n",
       "      <th>0.0</th>\n",
       "      <td>3192.0</td>\n",
       "      <td>6.0</td>\n",
       "      <td>0.0</td>\n",
       "      <td>0.162683</td>\n",
       "      <td>0.0</td>\n",
       "      <td>2985</td>\n",
       "      <td>6</td>\n",
       "    </tr>\n",
       "    <tr>\n",
       "      <th>1.0</th>\n",
       "      <td>781.0</td>\n",
       "      <td>8.0</td>\n",
       "      <td>0.0</td>\n",
       "      <td>0.112763</td>\n",
       "      <td>0.0</td>\n",
       "      <td>679</td>\n",
       "      <td>7</td>\n",
       "    </tr>\n",
       "  </tbody>\n",
       "</table>\n",
       "</div>"
      ],
      "text/plain": [
       "                   CreditCard_Payment_External___sum  \\\n",
       "Month      Target                                      \n",
       "2019-03-01 0.0                                3481.0   \n",
       "           1.0                                 828.0   \n",
       "2019-04-01 0.0                                3192.0   \n",
       "           1.0                                 781.0   \n",
       "\n",
       "                   CreditCard_Payment_External___amax  \\\n",
       "Month      Target                                       \n",
       "2019-03-01 0.0                                    5.0   \n",
       "           1.0                                    7.0   \n",
       "2019-04-01 0.0                                    6.0   \n",
       "           1.0                                    8.0   \n",
       "\n",
       "                   CreditCard_Payment_External___amin  \\\n",
       "Month      Target                                       \n",
       "2019-03-01 0.0                                    0.0   \n",
       "           1.0                                    0.0   \n",
       "2019-04-01 0.0                                    0.0   \n",
       "           1.0                                    0.0   \n",
       "\n",
       "                   CreditCard_Payment_External___mean  \\\n",
       "Month      Target                                       \n",
       "2019-03-01 0.0                               0.177403   \n",
       "           1.0                               0.119567   \n",
       "2019-04-01 0.0                               0.162683   \n",
       "           1.0                               0.112763   \n",
       "\n",
       "                   CreditCard_Payment_External___median  \\\n",
       "Month      Target                                         \n",
       "2019-03-01 0.0                                      0.0   \n",
       "           1.0                                      0.0   \n",
       "2019-04-01 0.0                                      0.0   \n",
       "           1.0                                      0.0   \n",
       "\n",
       "                   CreditCard_Payment_External___count_nonzero  \\\n",
       "Month      Target                                                \n",
       "2019-03-01 0.0                                            3139   \n",
       "           1.0                                             713   \n",
       "2019-04-01 0.0                                            2985   \n",
       "           1.0                                             679   \n",
       "\n",
       "                   CreditCard_Payment_External___nunique  \n",
       "Month      Target                                         \n",
       "2019-03-01 0.0                                         6  \n",
       "           1.0                                         8  \n",
       "2019-04-01 0.0                                         6  \n",
       "           1.0                                         7  "
      ]
     },
     "execution_count": 64,
     "metadata": {},
     "output_type": "execute_result"
    }
   ],
   "source": [
    "data3 = function_stat('CreditCard_Payment_External')\n",
    "data3"
   ]
  },
  {
   "cell_type": "code",
   "execution_count": 65,
   "id": "e89542ec",
   "metadata": {},
   "outputs": [
    {
     "data": {
      "text/html": [
       "<div>\n",
       "<style scoped>\n",
       "    .dataframe tbody tr th:only-of-type {\n",
       "        vertical-align: middle;\n",
       "    }\n",
       "\n",
       "    .dataframe tbody tr th {\n",
       "        vertical-align: top;\n",
       "    }\n",
       "\n",
       "    .dataframe thead th {\n",
       "        text-align: right;\n",
       "    }\n",
       "</style>\n",
       "<table border=\"1\" class=\"dataframe\">\n",
       "  <thead>\n",
       "    <tr style=\"text-align: right;\">\n",
       "      <th></th>\n",
       "      <th></th>\n",
       "      <th>CreditCard_Payment_External___sum</th>\n",
       "      <th>CreditCard_Payment_External___amax</th>\n",
       "      <th>CreditCard_Payment_External___amin</th>\n",
       "      <th>CreditCard_Payment_External___mean</th>\n",
       "      <th>CreditCard_Payment_External___median</th>\n",
       "      <th>CreditCard_Payment_External___count_nonzero</th>\n",
       "      <th>CreditCard_Payment_External___nunique</th>\n",
       "    </tr>\n",
       "    <tr>\n",
       "      <th>Month</th>\n",
       "      <th>Target</th>\n",
       "      <th></th>\n",
       "      <th></th>\n",
       "      <th></th>\n",
       "      <th></th>\n",
       "      <th></th>\n",
       "      <th></th>\n",
       "      <th></th>\n",
       "    </tr>\n",
       "  </thead>\n",
       "  <tbody>\n",
       "    <tr>\n",
       "      <th rowspan=\"2\" valign=\"top\">2019-03-01</th>\n",
       "      <th>0.0</th>\n",
       "      <td>3481.0</td>\n",
       "      <td>5.0</td>\n",
       "      <td>0.0</td>\n",
       "      <td>0.177403</td>\n",
       "      <td>0.0</td>\n",
       "      <td>3139</td>\n",
       "      <td>6</td>\n",
       "    </tr>\n",
       "    <tr>\n",
       "      <th>1.0</th>\n",
       "      <td>828.0</td>\n",
       "      <td>7.0</td>\n",
       "      <td>0.0</td>\n",
       "      <td>0.119567</td>\n",
       "      <td>0.0</td>\n",
       "      <td>713</td>\n",
       "      <td>8</td>\n",
       "    </tr>\n",
       "    <tr>\n",
       "      <th rowspan=\"2\" valign=\"top\">2019-04-01</th>\n",
       "      <th>0.0</th>\n",
       "      <td>3192.0</td>\n",
       "      <td>6.0</td>\n",
       "      <td>0.0</td>\n",
       "      <td>0.162683</td>\n",
       "      <td>0.0</td>\n",
       "      <td>2985</td>\n",
       "      <td>6</td>\n",
       "    </tr>\n",
       "    <tr>\n",
       "      <th>1.0</th>\n",
       "      <td>781.0</td>\n",
       "      <td>8.0</td>\n",
       "      <td>0.0</td>\n",
       "      <td>0.112763</td>\n",
       "      <td>0.0</td>\n",
       "      <td>679</td>\n",
       "      <td>7</td>\n",
       "    </tr>\n",
       "  </tbody>\n",
       "</table>\n",
       "</div>"
      ],
      "text/plain": [
       "                   CreditCard_Payment_External___sum  \\\n",
       "Month      Target                                      \n",
       "2019-03-01 0.0                                3481.0   \n",
       "           1.0                                 828.0   \n",
       "2019-04-01 0.0                                3192.0   \n",
       "           1.0                                 781.0   \n",
       "\n",
       "                   CreditCard_Payment_External___amax  \\\n",
       "Month      Target                                       \n",
       "2019-03-01 0.0                                    5.0   \n",
       "           1.0                                    7.0   \n",
       "2019-04-01 0.0                                    6.0   \n",
       "           1.0                                    8.0   \n",
       "\n",
       "                   CreditCard_Payment_External___amin  \\\n",
       "Month      Target                                       \n",
       "2019-03-01 0.0                                    0.0   \n",
       "           1.0                                    0.0   \n",
       "2019-04-01 0.0                                    0.0   \n",
       "           1.0                                    0.0   \n",
       "\n",
       "                   CreditCard_Payment_External___mean  \\\n",
       "Month      Target                                       \n",
       "2019-03-01 0.0                               0.177403   \n",
       "           1.0                               0.119567   \n",
       "2019-04-01 0.0                               0.162683   \n",
       "           1.0                               0.112763   \n",
       "\n",
       "                   CreditCard_Payment_External___median  \\\n",
       "Month      Target                                         \n",
       "2019-03-01 0.0                                      0.0   \n",
       "           1.0                                      0.0   \n",
       "2019-04-01 0.0                                      0.0   \n",
       "           1.0                                      0.0   \n",
       "\n",
       "                   CreditCard_Payment_External___count_nonzero  \\\n",
       "Month      Target                                                \n",
       "2019-03-01 0.0                                            3139   \n",
       "           1.0                                             713   \n",
       "2019-04-01 0.0                                            2985   \n",
       "           1.0                                             679   \n",
       "\n",
       "                   CreditCard_Payment_External___nunique  \n",
       "Month      Target                                         \n",
       "2019-03-01 0.0                                         6  \n",
       "           1.0                                         8  \n",
       "2019-04-01 0.0                                         6  \n",
       "           1.0                                         7  "
      ]
     },
     "execution_count": 65,
     "metadata": {},
     "output_type": "execute_result"
    }
   ],
   "source": [
    "data3"
   ]
  },
  {
   "cell_type": "code",
   "execution_count": 66,
   "id": "c0bc54cb",
   "metadata": {},
   "outputs": [
    {
     "name": "stdout",
     "output_type": "stream",
     "text": [
      "Index(['SavingAccount_Debits_Transactions___sum',\n",
      "       'SavingAccount_Debits_Transactions___amax',\n",
      "       'SavingAccount_Debits_Transactions___amin',\n",
      "       'SavingAccount_Debits_Transactions___mean',\n",
      "       'SavingAccount_Debits_Transactions___median',\n",
      "       'SavingAccount_Debits_Transactions___count_nonzero',\n",
      "       'SavingAccount_Debits_Transactions___nunique'],\n",
      "      dtype='object')\n"
     ]
    },
    {
     "name": "stderr",
     "output_type": "stream",
     "text": [
      "/tmp/ipykernel_540630/3111079813.py:5: FutureWarning: The provided callable <function sum at 0x7f47880dd440> is currently using SeriesGroupBy.sum. In a future version of pandas, the provided callable will be used directly. To keep current behavior pass 'sum' instead.\n",
      "  data_total2 = data_months.groupby(['Month', 'Target'])[var].agg([np.sum, np.amax,np.min, np.mean, np.median, np.count_nonzero, 'nunique'])\n",
      "/tmp/ipykernel_540630/3111079813.py:5: FutureWarning: The provided callable <function min at 0x7f47880ddc60> is currently using SeriesGroupBy.min. In a future version of pandas, the provided callable will be used directly. To keep current behavior pass 'min' instead.\n",
      "  data_total2 = data_months.groupby(['Month', 'Target'])[var].agg([np.sum, np.amax,np.min, np.mean, np.median, np.count_nonzero, 'nunique'])\n",
      "/tmp/ipykernel_540630/3111079813.py:5: FutureWarning: The provided callable <function mean at 0x7f47880de520> is currently using SeriesGroupBy.mean. In a future version of pandas, the provided callable will be used directly. To keep current behavior pass 'mean' instead.\n",
      "  data_total2 = data_months.groupby(['Month', 'Target'])[var].agg([np.sum, np.amax,np.min, np.mean, np.median, np.count_nonzero, 'nunique'])\n",
      "/tmp/ipykernel_540630/3111079813.py:5: FutureWarning: The provided callable <function median at 0x7f4760f63a60> is currently using SeriesGroupBy.median. In a future version of pandas, the provided callable will be used directly. To keep current behavior pass 'median' instead.\n",
      "  data_total2 = data_months.groupby(['Month', 'Target'])[var].agg([np.sum, np.amax,np.min, np.mean, np.median, np.count_nonzero, 'nunique'])\n"
     ]
    }
   ],
   "source": [
    "data4 = function_stat('SavingAccount_Debits_Transactions')"
   ]
  },
  {
   "cell_type": "code",
   "execution_count": 67,
   "id": "0ce32b82",
   "metadata": {},
   "outputs": [
    {
     "data": {
      "text/plain": [
       "(4, 21)"
      ]
     },
     "execution_count": 67,
     "metadata": {},
     "output_type": "execute_result"
    }
   ],
   "source": [
    "# Merge two dataframes\n",
    "data_merge = data3.merge(data4, how ='inner', on=['Month', 'Target'])\n",
    "\n",
    "data_merge = data3.merge(data4, 'inner', ['Month', 'Target'])\\\n",
    "                  .merge(data4, 'inner', ['Month', 'Target'])\n",
    "                    \n",
    "\n",
    "data_merge.shape"
   ]
  },
  {
   "cell_type": "code",
   "execution_count": 68,
   "id": "f9d44876",
   "metadata": {},
   "outputs": [
    {
     "data": {
      "text/plain": [
       "Index(['CreditCard_Payment_External___sum',\n",
       "       'CreditCard_Payment_External___amax',\n",
       "       'CreditCard_Payment_External___amin',\n",
       "       'CreditCard_Payment_External___mean',\n",
       "       'CreditCard_Payment_External___median',\n",
       "       'CreditCard_Payment_External___count_nonzero',\n",
       "       'CreditCard_Payment_External___nunique',\n",
       "       'SavingAccount_Debits_Transactions___sum_x',\n",
       "       'SavingAccount_Debits_Transactions___amax_x',\n",
       "       'SavingAccount_Debits_Transactions___amin_x',\n",
       "       'SavingAccount_Debits_Transactions___mean_x',\n",
       "       'SavingAccount_Debits_Transactions___median_x',\n",
       "       'SavingAccount_Debits_Transactions___count_nonzero_x',\n",
       "       'SavingAccount_Debits_Transactions___nunique_x',\n",
       "       'SavingAccount_Debits_Transactions___sum_y',\n",
       "       'SavingAccount_Debits_Transactions___amax_y',\n",
       "       'SavingAccount_Debits_Transactions___amin_y',\n",
       "       'SavingAccount_Debits_Transactions___mean_y',\n",
       "       'SavingAccount_Debits_Transactions___median_y',\n",
       "       'SavingAccount_Debits_Transactions___count_nonzero_y',\n",
       "       'SavingAccount_Debits_Transactions___nunique_y'],\n",
       "      dtype='object')"
      ]
     },
     "execution_count": 68,
     "metadata": {},
     "output_type": "execute_result"
    }
   ],
   "source": [
    "data_merge.columns"
   ]
  },
  {
   "cell_type": "code",
   "execution_count": 69,
   "id": "bddbf6db",
   "metadata": {},
   "outputs": [],
   "source": [
    "data_merge = data_merge.rename(columns={\n",
    "    'SavingAccount_Debits_Transactions___nunique_y' : 'SavingAccount_Debits_Transactions___nunique_22',\n",
    "    'SavingAccount_Debits_Transactions___amin_y': 'SavingAccount_Debits_Transactions___amin_nueva',\n",
    "})"
   ]
  },
  {
   "cell_type": "code",
   "execution_count": 70,
   "id": "a0dcc200",
   "metadata": {},
   "outputs": [],
   "source": [
    "data_merge.rename(columns={\n",
    "    'SavingAccount_Debits_Transactions___nunique_y' : 'SavingAccount_Debits_Transactions___nunique_22',\n",
    "    'bfgf': 'SavingAccount_Debits_Transactions___amin_nueva',\n",
    "}, inplace=True)"
   ]
  },
  {
   "cell_type": "code",
   "execution_count": 71,
   "id": "27a46537",
   "metadata": {},
   "outputs": [
    {
     "data": {
      "text/plain": [
       "Index(['CreditCard_Payment_External___sum',\n",
       "       'CreditCard_Payment_External___amax',\n",
       "       'CreditCard_Payment_External___amin',\n",
       "       'CreditCard_Payment_External___mean',\n",
       "       'CreditCard_Payment_External___median',\n",
       "       'CreditCard_Payment_External___count_nonzero',\n",
       "       'CreditCard_Payment_External___nunique',\n",
       "       'SavingAccount_Debits_Transactions___sum_x',\n",
       "       'SavingAccount_Debits_Transactions___amax_x',\n",
       "       'SavingAccount_Debits_Transactions___amin_x',\n",
       "       'SavingAccount_Debits_Transactions___mean_x',\n",
       "       'SavingAccount_Debits_Transactions___median_x',\n",
       "       'SavingAccount_Debits_Transactions___count_nonzero_x',\n",
       "       'SavingAccount_Debits_Transactions___nunique_x',\n",
       "       'SavingAccount_Debits_Transactions___sum_y',\n",
       "       'SavingAccount_Debits_Transactions___amax_y',\n",
       "       'SavingAccount_Debits_Transactions___amin_nueva',\n",
       "       'SavingAccount_Debits_Transactions___mean_y',\n",
       "       'SavingAccount_Debits_Transactions___median_y',\n",
       "       'SavingAccount_Debits_Transactions___count_nonzero_y',\n",
       "       'SavingAccount_Debits_Transactions___nunique_22'],\n",
       "      dtype='object')"
      ]
     },
     "execution_count": 71,
     "metadata": {},
     "output_type": "execute_result"
    }
   ],
   "source": [
    "data_merge.columns"
   ]
  },
  {
   "cell_type": "code",
   "execution_count": 72,
   "id": "1d55bcda",
   "metadata": {},
   "outputs": [
    {
     "data": {
      "text/plain": [
       "27590"
      ]
     },
     "execution_count": 72,
     "metadata": {},
     "output_type": "execute_result"
    }
   ],
   "source": [
    "len(data.client_id.unique())"
   ]
  },
  {
   "cell_type": "code",
   "execution_count": 73,
   "id": "803f715a",
   "metadata": {},
   "outputs": [
    {
     "data": {
      "text/plain": [
       "SavingAccount_Debits_Transactions_gt_100\n",
       "0    238589\n",
       "1        26\n",
       "Name: count, dtype: int64"
      ]
     },
     "execution_count": 73,
     "metadata": {},
     "output_type": "execute_result"
    }
   ],
   "source": [
    "# new column\n",
    "# if SavingAccount_Debits_Transactions &gt; 100 then 1 else 0\n",
    "\n",
    "data['SavingAccount_Debits_Transactions_gt_100'] = np.where(data['SavingAccount_Debits_Transactions'] > 100, 1, 0)\n",
    "\n",
    "data['SavingAccount_Debits_Transactions_gt_100'].value_counts()"
   ]
  },
  {
   "cell_type": "code",
   "execution_count": 74,
   "id": "460afd91",
   "metadata": {},
   "outputs": [
    {
     "data": {
      "text/plain": [
       "SavingAccount_Debits_Transactions_gt_100\n",
       "3    199680\n",
       "2     29142\n",
       "1      9793\n",
       "Name: count, dtype: int64"
      ]
     },
     "execution_count": 74,
     "metadata": {},
     "output_type": "execute_result"
    }
   ],
   "source": [
    "# new column\n",
    "\n",
    "\n",
    "data['SavingAccount_Debits_Transactions_gt_100'] = np.where(\n",
    "    (data['SavingAccount_Debits_Transactions'].between(5, 6)), 1, np.where((data['SavingAccount_Debits_Transactions'] > 6), 2, 3)\n",
    ")\n",
    "\n",
    "data['SavingAccount_Debits_Transactions_gt_100'].value_counts()"
   ]
  },
  {
   "cell_type": "code",
   "execution_count": 75,
   "id": "3e47e8ee",
   "metadata": {},
   "outputs": [
    {
     "data": {
      "text/plain": [
       "0              0\n",
       "1              1\n",
       "2              2\n",
       "3              3\n",
       "4              4\n",
       "           ...  \n",
       "238610    238610\n",
       "238611    238611\n",
       "238612    238612\n",
       "238613    238613\n",
       "238614    238614\n",
       "Name: row_num, Length: 238615, dtype: int64"
      ]
     },
     "execution_count": 75,
     "metadata": {},
     "output_type": "execute_result"
    }
   ],
   "source": [
    "data['row_num'] = data.index\n",
    "\n",
    "data['row_num']"
   ]
  },
  {
   "cell_type": "code",
   "execution_count": 76,
   "id": "b71bbc15",
   "metadata": {},
   "outputs": [],
   "source": [
    "data[['client_id', 'SavingAccount_Debits_Transactions_gt_100']].to_csv('./data2.csv', sep='|', header=True, index=False)"
   ]
  },
  {
   "cell_type": "code",
   "execution_count": 77,
   "id": "a2f1f959",
   "metadata": {},
   "outputs": [
    {
     "data": {
      "text/plain": [
       "True"
      ]
     },
     "execution_count": 77,
     "metadata": {},
     "output_type": "execute_result"
    }
   ],
   "source": [
    "# nulls\n",
    "data.isnull().values.any()"
   ]
  },
  {
   "cell_type": "code",
   "execution_count": 78,
   "id": "909088b9",
   "metadata": {},
   "outputs": [],
   "source": [
    "data = data.fillna(0).fillna('0')"
   ]
  },
  {
   "cell_type": "code",
   "execution_count": 79,
   "id": "3d59f851",
   "metadata": {},
   "outputs": [
    {
     "data": {
      "text/plain": [
       "18.0"
      ]
     },
     "execution_count": 79,
     "metadata": {},
     "output_type": "execute_result"
    }
   ],
   "source": [
    "p95 = data['SavingAccount_Debits_Transactions'].quantile(0.95)\n",
    "p95"
   ]
  },
  {
   "cell_type": "code",
   "execution_count": 80,
   "id": "37db1189",
   "metadata": {},
   "outputs": [
    {
     "data": {
      "text/plain": [
       "0.0"
      ]
     },
     "execution_count": 80,
     "metadata": {},
     "output_type": "execute_result"
    }
   ],
   "source": [
    "p05 = data['SavingAccount_Debits_Transactions'].quantile(0.05)\n",
    "p05"
   ]
  },
  {
   "cell_type": "code",
   "execution_count": 81,
   "id": "9d780614",
   "metadata": {},
   "outputs": [
    {
     "data": {
      "text/plain": [
       "0.0"
      ]
     },
     "execution_count": 81,
     "metadata": {},
     "output_type": "execute_result"
    }
   ],
   "source": [
    "p50 = data['SavingAccount_Debits_Transactions'].quantile(0.5)\n",
    "p50"
   ]
  },
  {
   "cell_type": "code",
   "execution_count": 82,
   "id": "64ea6a85",
   "metadata": {},
   "outputs": [
    {
     "data": {
      "text/plain": [
       "0.0"
      ]
     },
     "execution_count": 82,
     "metadata": {},
     "output_type": "execute_result"
    }
   ],
   "source": [
    "p50 = data['SavingAccount_Debits_Transactions'].median()\n",
    "p50\n"
   ]
  },
  {
   "cell_type": "code",
   "execution_count": 83,
   "id": "69ee9682",
   "metadata": {},
   "outputs": [],
   "source": [
    "# Dictionaries\n",
    "\n",
    "di = { \n",
    "     \"TIERRADELFUEGO\"          : \"TIERRA DEL FUEGO\",\n",
    "     \"LARIOJA\"                 : \"LA RIOJA\",\n",
    "}\n",
    "# ABT_Modelado.formData_provincia = ABT_Modelado.formData_provincia.map(di)"
   ]
  },
  {
   "cell_type": "code",
   "execution_count": 84,
   "id": "47fc00de",
   "metadata": {},
   "outputs": [
    {
     "ename": "Exception",
     "evalue": "File `'c:\\\\ksjdlfjs\\\\program.py'` not found.",
     "output_type": "error",
     "traceback": [
      "\u001b[0;31m---------------------------------------------------------------------------\u001b[0m",
      "\u001b[0;31mOSError\u001b[0m                                   Traceback (most recent call last)",
      "File \u001b[0;32m~/workspace/virtualenvs/machine_learning-UIi7gfOb/lib/python3.11/site-packages/IPython/core/magics/execution.py:701\u001b[0m, in \u001b[0;36mExecutionMagics.run\u001b[0;34m(self, parameter_s, runner, file_finder)\u001b[0m\n\u001b[1;32m    700\u001b[0m     fpath \u001b[39m=\u001b[39m arg_lst[\u001b[39m0\u001b[39m]\n\u001b[0;32m--> 701\u001b[0m     filename \u001b[39m=\u001b[39m file_finder(fpath)\n\u001b[1;32m    702\u001b[0m \u001b[39mexcept\u001b[39;00m \u001b[39mIndexError\u001b[39;00m \u001b[39mas\u001b[39;00m e:\n",
      "File \u001b[0;32m~/workspace/virtualenvs/machine_learning-UIi7gfOb/lib/python3.11/site-packages/IPython/utils/path.py:90\u001b[0m, in \u001b[0;36mget_py_filename\u001b[0;34m(name)\u001b[0m\n\u001b[1;32m     89\u001b[0m         \u001b[39mreturn\u001b[39;00m py_name\n\u001b[0;32m---> 90\u001b[0m \u001b[39mraise\u001b[39;00m \u001b[39mIOError\u001b[39;00m(\u001b[39m\"\u001b[39m\u001b[39mFile `\u001b[39m\u001b[39m%r\u001b[39;00m\u001b[39m` not found.\u001b[39m\u001b[39m\"\u001b[39m \u001b[39m%\u001b[39m name)\n",
      "\u001b[0;31mOSError\u001b[0m: File `'c:\\\\ksjdlfjs\\\\program.py'` not found.",
      "\nThe above exception was the direct cause of the following exception:\n",
      "\u001b[0;31mException\u001b[0m                                 Traceback (most recent call last)",
      "Cell \u001b[0;32mIn[84], line 2\u001b[0m\n\u001b[1;32m      1\u001b[0m \u001b[39m# Ejemplo para correr un scrip\u001b[39;00m\n\u001b[0;32m----> 2\u001b[0m get_ipython()\u001b[39m.\u001b[39;49mrun_line_magic(\u001b[39m'\u001b[39;49m\u001b[39mrun\u001b[39;49m\u001b[39m'\u001b[39;49m, \u001b[39m'\u001b[39;49m\u001b[39m\"\u001b[39;49m\u001b[39mc:\u001b[39;49m\u001b[39m\\\\\u001b[39;49;00m\u001b[39mksjdlfjs\u001b[39;49m\u001b[39m\\\\\u001b[39;49;00m\u001b[39mprogram.py\u001b[39;49m\u001b[39m\"\u001b[39;49m\u001b[39m'\u001b[39;49m)\n",
      "File \u001b[0;32m~/workspace/virtualenvs/machine_learning-UIi7gfOb/lib/python3.11/site-packages/IPython/core/interactiveshell.py:2417\u001b[0m, in \u001b[0;36mInteractiveShell.run_line_magic\u001b[0;34m(self, magic_name, line, _stack_depth)\u001b[0m\n\u001b[1;32m   2415\u001b[0m     kwargs[\u001b[39m'\u001b[39m\u001b[39mlocal_ns\u001b[39m\u001b[39m'\u001b[39m] \u001b[39m=\u001b[39m \u001b[39mself\u001b[39m\u001b[39m.\u001b[39mget_local_scope(stack_depth)\n\u001b[1;32m   2416\u001b[0m \u001b[39mwith\u001b[39;00m \u001b[39mself\u001b[39m\u001b[39m.\u001b[39mbuiltin_trap:\n\u001b[0;32m-> 2417\u001b[0m     result \u001b[39m=\u001b[39m fn(\u001b[39m*\u001b[39;49margs, \u001b[39m*\u001b[39;49m\u001b[39m*\u001b[39;49mkwargs)\n\u001b[1;32m   2419\u001b[0m \u001b[39m# The code below prevents the output from being displayed\u001b[39;00m\n\u001b[1;32m   2420\u001b[0m \u001b[39m# when using magics with decodator @output_can_be_silenced\u001b[39;00m\n\u001b[1;32m   2421\u001b[0m \u001b[39m# when the last Python token in the expression is a ';'.\u001b[39;00m\n\u001b[1;32m   2422\u001b[0m \u001b[39mif\u001b[39;00m \u001b[39mgetattr\u001b[39m(fn, magic\u001b[39m.\u001b[39mMAGIC_OUTPUT_CAN_BE_SILENCED, \u001b[39mFalse\u001b[39;00m):\n",
      "File \u001b[0;32m~/workspace/virtualenvs/machine_learning-UIi7gfOb/lib/python3.11/site-packages/IPython/core/magics/execution.py:712\u001b[0m, in \u001b[0;36mExecutionMagics.run\u001b[0;34m(self, parameter_s, runner, file_finder)\u001b[0m\n\u001b[1;32m    710\u001b[0m     \u001b[39mif\u001b[39;00m os\u001b[39m.\u001b[39mname \u001b[39m==\u001b[39m \u001b[39m'\u001b[39m\u001b[39mnt\u001b[39m\u001b[39m'\u001b[39m \u001b[39mand\u001b[39;00m re\u001b[39m.\u001b[39mmatch(\u001b[39mr\u001b[39m\u001b[39m\"\u001b[39m\u001b[39m^\u001b[39m\u001b[39m'\u001b[39m\u001b[39m.*\u001b[39m\u001b[39m'\u001b[39m\u001b[39m$\u001b[39m\u001b[39m\"\u001b[39m,fpath):\n\u001b[1;32m    711\u001b[0m         warn(\u001b[39m'\u001b[39m\u001b[39mFor Windows, use double quotes to wrap a filename: \u001b[39m\u001b[39m%r\u001b[39;00m\u001b[39mun \u001b[39m\u001b[39m\"\u001b[39m\u001b[39mmypath\u001b[39m\u001b[39m\\\\\u001b[39;00m\u001b[39mmyfile.py\u001b[39m\u001b[39m\"\u001b[39m\u001b[39m'\u001b[39m)\n\u001b[0;32m--> 712\u001b[0m     \u001b[39mraise\u001b[39;00m \u001b[39mException\u001b[39;00m(msg) \u001b[39mfrom\u001b[39;00m \u001b[39me\u001b[39;00m\n\u001b[1;32m    713\u001b[0m \u001b[39mexcept\u001b[39;00m \u001b[39mTypeError\u001b[39;00m:\n\u001b[1;32m    714\u001b[0m     \u001b[39mif\u001b[39;00m fpath \u001b[39min\u001b[39;00m sys\u001b[39m.\u001b[39mmeta_path:\n",
      "\u001b[0;31mException\u001b[0m: File `'c:\\\\ksjdlfjs\\\\program.py'` not found."
     ]
    }
   ],
   "source": [
    "# Ejemplo para correr un scrip\n",
    "%run \"c:\\ksjdlfjs\\program.py\""
   ]
  },
  {
   "cell_type": "markdown",
   "id": "3f483687",
   "metadata": {},
   "source": [
    "## Exploratory Data Analysis (EDA)"
   ]
  },
  {
   "cell_type": "code",
   "execution_count": 85,
   "id": "c30c4e84",
   "metadata": {},
   "outputs": [
    {
     "name": "stdout",
     "output_type": "stream",
     "text": [
      "client_id\n",
      "Target\n",
      "Month\n",
      "First_product_dt\n",
      "Last_product_dt\n",
      "CreditCard_Premium\n",
      "CreditCard_Active\n",
      "CreditCard_CoBranding\n",
      "Loan_Active\n",
      "Mortgage_Active\n",
      "SavingAccount_Active_ARG_Salary\n",
      "SavingAccount_Active_ARG\n",
      "SavingAccount_Active_DOLLAR\n",
      "DebitCard_Active\n",
      "Investment_Active\n",
      "Package_Active\n",
      "Insurance_Life\n",
      "Insurance_Home\n",
      "Insurance_Accidents\n",
      "Insurance_Mobile\n",
      "Insurance_ATM\n",
      "Insurance_Unemployment\n",
      "Sex\n",
      "Client_Age_grp\n",
      "SavingAccount_Balance_FirstDate\n",
      "SavingAccount_Balance_LastDate\n",
      "SavingAccount_Balance_Average\n",
      "SavingAccount_Days_with_use\n",
      "SavingAccount_Days_with_Credits\n",
      "SavingAccount_Days_with_Debits\n",
      "SavingAccount_Salary_Payment_Transactions\n",
      "SavingAccount_Transfer_In_Transactions\n",
      "SavingAccount_ATM_Extraction_Transactions\n",
      "SavingAccount_Service_Payment_Transactions\n",
      "SavingAccount_CreditCard_Payment_Transactions\n",
      "SavingAccount_Transfer_Out_Transactions\n",
      "SavingAccount_DebitCard_Spend_Transactions\n",
      "SavingAccount_Transactions_Transactions\n",
      "SavingAccount_Credits_Transactions\n",
      "SavingAccount_Debits_Transactions\n",
      "SavingAccount_Salary_Payment_Amount\n",
      "SavingAccount_Transfer_In_Amount\n",
      "SavingAccount_ATM_Extraction_Amount\n",
      "SavingAccount_Service_Payment_Amount\n",
      "SavingAccount_CreditCard_Payment_Amount\n",
      "SavingAccount_Transfer_Out_Amount\n",
      "SavingAccount_DebitCard_Spend_Amount\n",
      "SavingAccount_Total_Amount\n",
      "SavingAccount_Credits_Amounts\n",
      "SavingAccount_Debits_Amounts\n",
      "Operations_Bank\n",
      "Operations_Terminal\n",
      "Operations_HomeBanking\n",
      "Operations_Mobile\n",
      "Operations_Ivr\n",
      "Operations_Telemarketer\n",
      "Operations_ATM\n",
      "CreditCard_Balance_ARG\n",
      "CreditCard_Balance_DOLLAR\n",
      "CreditCard_Total_Limit\n",
      "CreditCard_Total_Spending\n",
      "CreditCard_Spending_1_Installment\n",
      "CreditCard_Spending_Installments\n",
      "CreditCard_Spending_CrossBoarder\n",
      "CreditCard_Spending_Aut_Debits\n",
      "CreditCard_Revolving\n",
      "CreditCard_Payment_Aut_Debit\n",
      "CreditCard_Payment_External\n",
      "CreditCard_Payment_Cash\n",
      "CreditCard_Payment_Web\n",
      "CreditCard_Payment_ATM\n",
      "CreditCard_Payment_TAS\n",
      "Investment_Numbers\n",
      "Mobile\n",
      "Email\n",
      "Region\n",
      "CreditCard_Product\n",
      "SavingAccount_Debits_Transactions_gt_100\n",
      "row_num\n"
     ]
    }
   ],
   "source": [
    "for x in data.columns:\n",
    "    print(x)"
   ]
  },
  {
   "cell_type": "code",
   "execution_count": 86,
   "id": "835b6d31",
   "metadata": {},
   "outputs": [
    {
     "name": "stdout",
     "output_type": "stream",
     "text": [
      "3\n"
     ]
    }
   ],
   "source": [
    "for x in np.arange(3, 10, 1):\n",
    "    print(x)\n",
    "    break"
   ]
  },
  {
   "cell_type": "code",
   "execution_count": 87,
   "id": "04d3f7b0",
   "metadata": {},
   "outputs": [
    {
     "name": "stdout",
     "output_type": "stream",
     "text": [
      "Hello world, menor a 10\n"
     ]
    }
   ],
   "source": [
    "if (x == 10) :\n",
    "    print('Hello world, igual a 10')\n",
    "elif ( x < 10):\n",
    "    print('Hello world, menor a 10')\n",
    "else:\n",
    "    print('Goodbye world mayor a 10')"
   ]
  },
  {
   "cell_type": "code",
   "execution_count": 88,
   "id": "7a37edcd",
   "metadata": {},
   "outputs": [
    {
     "name": "stdout",
     "output_type": "stream",
     "text": [
      "error\n",
      "intente mi tarea\n"
     ]
    }
   ],
   "source": [
    "try:\n",
    "    a = 'aaa'\n",
    "    b = a/3\n",
    "except:\n",
    "    # si falla, en este caso, cualquier tipo de fallo\n",
    "    print('error')\n",
    "else:\n",
    "    # Esto se ejecuta cuando lo del try pasa sin errores\n",
    "    print('salio todo bien')\n",
    "finally:\n",
    "    # Esto se ejecuta siempre pase lo que pase pero al final\n",
    "    print('intente mi tarea')\n"
   ]
  },
  {
   "cell_type": "code",
   "execution_count": 89,
   "id": "9ccefb75",
   "metadata": {},
   "outputs": [
    {
     "name": "stdout",
     "output_type": "stream",
     "text": [
      "Fallo por el tipado de los datos: unsupported operand type(s) for /: 'str' and 'int'\n",
      "intente mi tarea\n"
     ]
    }
   ],
   "source": [
    "try:\n",
    "    a = 'aaa'\n",
    "    b = a/3\n",
    "except TypeError as e:\n",
    "    # Si falla por TypeError\n",
    "    print('Fallo por el tipado de los datos:', e)\n",
    "except Exception as e:\n",
    "    # Si falla, en este caso cualquier Exception que no sea el TypeError\n",
    "    print(e)\n",
    "else:\n",
    "    print('salio todo bien')\n",
    "finally:\n",
    "    print('intente mi tarea')"
   ]
  }
 ],
 "metadata": {
  "kernelspec": {
   "display_name": "Python 3 (ipykernel)",
   "language": "python",
   "name": "python3"
  },
  "language_info": {
   "codemirror_mode": {
    "name": "ipython",
    "version": 3
   },
   "file_extension": ".py",
   "mimetype": "text/x-python",
   "name": "python",
   "nbconvert_exporter": "python",
   "pygments_lexer": "ipython3",
   "version": "3.11.4"
  }
 },
 "nbformat": 4,
 "nbformat_minor": 5
}
